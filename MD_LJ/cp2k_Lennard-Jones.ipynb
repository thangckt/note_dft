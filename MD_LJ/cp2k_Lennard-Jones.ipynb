{
 "cells": [
  {
   "attachments": {},
   "cell_type": "markdown",
   "metadata": {},
   "source": [
    "CP2K tutorials\n",
    "- Offical page: https://www.cp2k.org/exercises\n",
    "- Notebook: https://github.com/oschuett/cp2k-notebooks\n",
    "\n",
    "NOTE: there is a python API [PYCP2K](https://github.com/SINGROUP/pycp2k), but should not use, since can not control which version\n",
    "\n",
    "CP2K for windows https://github.com/brhr-iwao/CP2K_for_Windows/releases"
   ]
  },
  {
   "attachments": {},
   "cell_type": "markdown",
   "metadata": {},
   "source": [
    "# Lennard-Jones potential\n",
    "MD run follow this tutorial https://github.com/oschuett/cp2k-notebooks/blob/master/Lennard-Jones.ipynb"
   ]
  },
  {
   "cell_type": "code",
   "execution_count": 1,
   "metadata": {},
   "outputs": [],
   "source": [
    "import numpy as np\n",
    "import matplotlib.pyplot as plt\n",
    "from IPython.display import clear_output\n",
    "\n",
    "import sys, re, os\n",
    "from pathlib        import Path\n",
    "dir_nb = Path(globals()['_dh'][0])                               # jupyter-dir: Path object    .__str__() \n",
    "sys.path.append( str(dir_nb/\"cp2k-2022.1.x64-pexsi\") )"
   ]
  },
  {
   "cell_type": "code",
   "execution_count": 2,
   "metadata": {},
   "outputs": [],
   "source": [
    "template = \"\"\"\n",
    "&GLOBAL                  ! section to select the kind of calculation\n",
    "   RUN_TYPE ENERGY       ! select type of calculation. In this case: ENERGY (=Single point calculation)\n",
    "&END GLOBAL\n",
    "&FORCE_EVAL              ! section with parameters and system description\n",
    "  METHOD FIST            ! Molecular Mechanics method\n",
    "  &MM                    ! specification of MM parameters \n",
    "    &FORCEFIELD          ! parameters needed to describe the potential \n",
    "    &SPLINE\n",
    "    EMAX_SPLINE 10000    ! numeric parameter to ensure calculation stability. Should not be changed\n",
    "    &END\n",
    "        &NONBONDED       ! parameters for the non bonded interactions\n",
    "          &LENNARD-JONES ! Lennard-Jones parameters\n",
    "          atoms Ar Ar\n",
    "          EPSILON    [K_e] 119.8\n",
    "          SIGMA [angstrom]   3.401\n",
    "          RCUT  [angstrom]  25.0\n",
    "        &END LENNARD-JONES\n",
    "      &END NONBONDED\n",
    "      &CHARGE\n",
    "        ATOM Ar\n",
    "        CHARGE 0.0\n",
    "      &END CHARGE\n",
    "    &END FORCEFIELD\n",
    "    &POISSON              ! solver for non periodic calculations\n",
    "     PERIODIC NONE\n",
    "      &EWALD\n",
    "        EWALD_TYPE none\n",
    "      &END EWALD\n",
    "    &END POISSON\n",
    "  &END MM\n",
    "  &SUBSYS                 ! system description \n",
    "    &CELL\n",
    "     ABC [angstrom] 10 10 10  \n",
    "     PERIODIC NONE\n",
    "    &END CELL\n",
    "    &COORD                \n",
    "      UNIT angstrom\n",
    "      Ar  0 0 0\n",
    "      Ar  0 0 <DIST>\n",
    "    &END COORD\n",
    "   &END SUBSYS\n",
    "&END FORCE_EVAL\"\"\""
   ]
  },
  {
   "cell_type": "code",
   "execution_count": 3,
   "metadata": {},
   "outputs": [
    {
     "name": "stdout",
     "output_type": "stream",
     "text": [
      "."
     ]
    },
    {
     "name": "stderr",
     "output_type": "stream",
     "text": [
      "'startcp2k.bat' is not recognized as an internal or external command,\n",
      "operable program or batch file.\n"
     ]
    },
    {
     "ename": "IndexError",
     "evalue": "list index out of range",
     "output_type": "error",
     "traceback": [
      "\u001b[1;31m---------------------------------------------------------------------------\u001b[0m",
      "\u001b[1;31mIndexError\u001b[0m                                Traceback (most recent call last)",
      "Cell \u001b[1;32mIn[3], line 16\u001b[0m\n\u001b[0;32m     14\u001b[0m \u001b[39m# retrieve energy from output\u001b[39;00m\n\u001b[0;32m     15\u001b[0m energy_line \u001b[39m=\u001b[39m [line \u001b[39mfor\u001b[39;00m line \u001b[39min\u001b[39;00m \u001b[39mopen\u001b[39m(\u001b[39m\"\u001b[39m\u001b[39menergy.out\u001b[39m\u001b[39m\"\u001b[39m)\u001b[39m.\u001b[39mreadlines() \u001b[39mif\u001b[39;00m \u001b[39m\"\u001b[39m\u001b[39mENERGY|\u001b[39m\u001b[39m\"\u001b[39m \u001b[39min\u001b[39;00m line]\n\u001b[1;32m---> 16\u001b[0m energy \u001b[39m=\u001b[39m \u001b[39mfloat\u001b[39m(energy_line[\u001b[39m0\u001b[39m]\u001b[39m.\u001b[39msplit()[\u001b[39m-\u001b[39m\u001b[39m1\u001b[39m])\n\u001b[0;32m     18\u001b[0m \u001b[39m# store energy\u001b[39;00m\n\u001b[0;32m     19\u001b[0m energies\u001b[39m.\u001b[39mappend(energy)\n",
      "\u001b[1;31mIndexError\u001b[0m: list index out of range"
     ]
    }
   ],
   "source": [
    "distances = np.linspace(start=3.25, stop=6.0, num=20)\n",
    "energies = []\n",
    "for dist in distances:\n",
    "    print(\".\",  end='')\n",
    "    \n",
    "    # create input file\n",
    "    inp = template.replace(\"<DIST>\", \"%f\"%dist)\n",
    "    open(\"energy.inp\", \"w\").write(inp)\n",
    "    \n",
    "    # run CP2K\n",
    "    # ! cp2k.popt energy.inp > energy.out\n",
    "    ! startcp2k.bat energy.inp > energy.out\n",
    "    \n",
    "    # retrieve energy from output\n",
    "    energy_line = [line for line in open(\"energy.out\").readlines() if \"ENERGY|\" in line]\n",
    "    energy = float(energy_line[0].split()[-1])\n",
    "    \n",
    "    # store energy\n",
    "    energies.append(energy)\n",
    "    \n",
    "# plot dissociation curve\n",
    "clear_output()\n",
    "plt.plot(distances, energies)\n",
    "plt.xlabel(\"Distance [Angstrom]\")\n",
    "plt.ylabel(\"Energy [Hartree]\")\n",
    "plt.show()"
   ]
  }
 ],
 "metadata": {
  "kernelspec": {
   "display_name": "py311",
   "language": "python",
   "name": "python3"
  },
  "language_info": {
   "codemirror_mode": {
    "name": "ipython",
    "version": 3
   },
   "file_extension": ".py",
   "mimetype": "text/x-python",
   "name": "python",
   "nbconvert_exporter": "python",
   "pygments_lexer": "ipython3",
   "version": "3.11.0"
  },
  "orig_nbformat": 4,
  "vscode": {
   "interpreter": {
    "hash": "5c79f991f86eb27795e10a995cddc62632fb02f5594cc68269302f756ca9db70"
   }
  }
 },
 "nbformat": 4,
 "nbformat_minor": 2
}
