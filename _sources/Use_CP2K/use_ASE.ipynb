{
 "cells": [
  {
   "attachments": {},
   "cell_type": "markdown",
   "metadata": {},
   "source": [
    "ASE just **call** a shell command to launch CP2K. see here https://databases.fysik.dtu.dk/ase/ase/calculators/cp2k.html\n",
    "\n",
    "It will not work if it can not find CP2K path"
   ]
  },
  {
   "cell_type": "markdown",
   "metadata": {},
   "source": []
  },
  {
   "cell_type": "code",
   "execution_count": 2,
   "metadata": {},
   "outputs": [],
   "source": [
    "from ase.calculators.cp2k import CP2K\n",
    "from ase.build import molecule"
   ]
  },
  {
   "cell_type": "code",
   "execution_count": null,
   "metadata": {},
   "outputs": [
    {
     "ename": "",
     "evalue": "",
     "output_type": "error",
     "traceback": [
      "\u001b[1;31mRunning cells with 'py39ase' requires ipykernel package.\n",
      "\u001b[1;31mRun the following command to install 'ipykernel' into the Python environment. \n",
      "\u001b[1;31mCommand: 'conda install -n py39ase ipykernel --update-deps --force-reinstall'"
     ]
    }
   ],
   "source": [
    "%pip install ase"
   ]
  },
  {
   "cell_type": "code",
   "execution_count": 3,
   "metadata": {},
   "outputs": [
    {
     "ename": "AssertionError",
     "evalue": "",
     "output_type": "error",
     "traceback": [
      "\u001b[1;31m---------------------------------------------------------------------------\u001b[0m",
      "\u001b[1;31mAssertionError\u001b[0m                            Traceback (most recent call last)",
      "Cell \u001b[1;32mIn[3], line 1\u001b[0m\n\u001b[1;32m----> 1\u001b[0m calc \u001b[39m=\u001b[39m CP2K()\n\u001b[0;32m      2\u001b[0m atoms \u001b[39m=\u001b[39m molecule(\u001b[39m'\u001b[39m\u001b[39mH2O\u001b[39m\u001b[39m'\u001b[39m, calculator\u001b[39m=\u001b[39mcalc)\n\u001b[0;32m      3\u001b[0m atoms\u001b[39m.\u001b[39mcenter(vacuum\u001b[39m=\u001b[39m\u001b[39m2.0\u001b[39m)\n",
      "File \u001b[1;32mc:\\DevProgram\\miniconda3\\envs\\py39ase\\lib\\site-packages\\ase\\calculators\\cp2k.py:200\u001b[0m, in \u001b[0;36mCP2K.__init__\u001b[1;34m(self, restart, ignore_bad_restart_file, label, atoms, command, debug, **kwargs)\u001b[0m\n\u001b[0;32m    194\u001b[0m     \u001b[39mself\u001b[39m\u001b[39m.\u001b[39mcommand \u001b[39m=\u001b[39m \u001b[39m'\u001b[39m\u001b[39mcp2k_shell\u001b[39m\u001b[39m'\u001b[39m  \u001b[39m# default\u001b[39;00m\n\u001b[0;32m    196\u001b[0m Calculator\u001b[39m.\u001b[39m\u001b[39m__init__\u001b[39m(\u001b[39mself\u001b[39m, restart\u001b[39m=\u001b[39mrestart,\n\u001b[0;32m    197\u001b[0m                     ignore_bad_restart_file\u001b[39m=\u001b[39mignore_bad_restart_file,\n\u001b[0;32m    198\u001b[0m                     label\u001b[39m=\u001b[39mlabel, atoms\u001b[39m=\u001b[39matoms, \u001b[39m*\u001b[39m\u001b[39m*\u001b[39mkwargs)\n\u001b[1;32m--> 200\u001b[0m \u001b[39mself\u001b[39m\u001b[39m.\u001b[39m_shell \u001b[39m=\u001b[39m Cp2kShell(\u001b[39mself\u001b[39;49m\u001b[39m.\u001b[39;49mcommand, \u001b[39mself\u001b[39;49m\u001b[39m.\u001b[39;49m_debug)\n\u001b[0;32m    202\u001b[0m \u001b[39mif\u001b[39;00m restart \u001b[39mis\u001b[39;00m \u001b[39mnot\u001b[39;00m \u001b[39mNone\u001b[39;00m:\n\u001b[0;32m    203\u001b[0m     \u001b[39mself\u001b[39m\u001b[39m.\u001b[39mread(restart)\n",
      "File \u001b[1;32mc:\\DevProgram\\miniconda3\\envs\\py39ase\\lib\\site-packages\\ase\\calculators\\cp2k.py:479\u001b[0m, in \u001b[0;36mCp2kShell.__init__\u001b[1;34m(self, command, debug)\u001b[0m\n\u001b[0;32m    476\u001b[0m     \u001b[39mprint\u001b[39m(command)\n\u001b[0;32m    477\u001b[0m \u001b[39mself\u001b[39m\u001b[39m.\u001b[39m_child \u001b[39m=\u001b[39m Popen(command, shell\u001b[39m=\u001b[39m\u001b[39mTrue\u001b[39;00m, universal_newlines\u001b[39m=\u001b[39m\u001b[39mTrue\u001b[39;00m,\n\u001b[0;32m    478\u001b[0m                     stdin\u001b[39m=\u001b[39mPIPE, stdout\u001b[39m=\u001b[39mPIPE, bufsize\u001b[39m=\u001b[39m\u001b[39m1\u001b[39m)\n\u001b[1;32m--> 479\u001b[0m \u001b[39mself\u001b[39;49m\u001b[39m.\u001b[39;49mexpect(\u001b[39m'\u001b[39;49m\u001b[39m* READY\u001b[39;49m\u001b[39m'\u001b[39;49m)\n\u001b[0;32m    481\u001b[0m \u001b[39m# check version of shell\u001b[39;00m\n\u001b[0;32m    482\u001b[0m \u001b[39mself\u001b[39m\u001b[39m.\u001b[39msend(\u001b[39m'\u001b[39m\u001b[39mVERSION\u001b[39m\u001b[39m'\u001b[39m)\n",
      "File \u001b[1;32mc:\\DevProgram\\miniconda3\\envs\\py39ase\\lib\\site-packages\\ase\\calculators\\cp2k.py:535\u001b[0m, in \u001b[0;36mCp2kShell.expect\u001b[1;34m(self, line)\u001b[0m\n\u001b[0;32m    533\u001b[0m \u001b[39m\"\"\"Receive a line and asserts that it matches the expected one\"\"\"\u001b[39;00m\n\u001b[0;32m    534\u001b[0m received \u001b[39m=\u001b[39m \u001b[39mself\u001b[39m\u001b[39m.\u001b[39mrecv()\n\u001b[1;32m--> 535\u001b[0m \u001b[39massert\u001b[39;00m received \u001b[39m==\u001b[39m line\n",
      "\u001b[1;31mAssertionError\u001b[0m: "
     ]
    }
   ],
   "source": [
    "calc = CP2K()\n",
    "atoms = molecule('H2O', calculator=calc)\n",
    "atoms.center(vacuum=2.0)\n",
    "print(atoms.get_potential_energy())"
   ]
  }
 ],
 "metadata": {
  "kernelspec": {
   "display_name": "py39ase",
   "language": "python",
   "name": "python3"
  },
  "language_info": {
   "codemirror_mode": {
    "name": "ipython",
    "version": 3
   },
   "file_extension": ".py",
   "mimetype": "text/x-python",
   "name": "python",
   "nbconvert_exporter": "python",
   "pygments_lexer": "ipython3",
   "version": "3.9.16"
  },
  "orig_nbformat": 4,
  "vscode": {
   "interpreter": {
    "hash": "a9fda9cf6b309331fd3b8329393aee4037eac5edef92a842791202cb5b92f9c8"
   }
  }
 },
 "nbformat": 4,
 "nbformat_minor": 2
}
