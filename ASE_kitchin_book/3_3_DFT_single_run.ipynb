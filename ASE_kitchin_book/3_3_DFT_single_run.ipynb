{
 "cells": [
  {
   "attachments": {},
   "cell_type": "markdown",
   "metadata": {},
   "source": [
    "## Install GPAW\n",
    "\n",
    "just work on Linux, python=3.10\n",
    "\n",
    "```sh\n",
    "conda install -c conda-forge gcc=12 gxx=12 libstdcxx-ng=12\n",
    "conda install -c conda-forge - openmpi blas libxc scalapack\n",
    "pip install --upgrade git+https://gitlab.com/ase/ase.git@master\n",
    "pip install git+https://gitlab.com/gpaw/gpaw.git\n",
    "```\n",
    "\n",
    "**Test**\n",
    "Run in env `py310ase`\n",
    "\n",
    "```sh\n",
    "gpaw test\n",
    "```\n",
    "\n",
    "NOTE:\n",
    "- [fix GPAW_SETUP_PATH](https://jensj.gitlab.io/gpaw-2021-talk/slides/slide-09.html)"
   ]
  },
  {
   "cell_type": "code",
   "execution_count": 4,
   "metadata": {},
   "outputs": [
    {
     "name": "stderr",
     "output_type": "stream",
     "text": [
      "UsageError: Line magic function `%` not found.\n"
     ]
    }
   ],
   "source": []
  },
  {
   "cell_type": "markdown",
   "metadata": {},
   "source": []
  },
  {
   "cell_type": "code",
   "execution_count": null,
   "metadata": {},
   "outputs": [],
   "source": []
  },
  {
   "attachments": {},
   "cell_type": "markdown",
   "metadata": {},
   "source": [
    "## Simple properties with single DFT Calculations\n",
    "\n",
    "### Energy and forces\n",
    "\n",
    "Two of the most important quantities we are interested in are the total energy and the forces on the atoms.\n",
    "- Define a calculator and attach it to an `ase.Atoms` object so that `ase` knows how to get the data\n",
    "- Run DFT calculation\n",
    "\n",
    "Here is an example of getting the energy and forces from a CO molecule. \n",
    "\n"
   ]
  },
  {
   "cell_type": "code",
   "execution_count": 5,
   "metadata": {},
   "outputs": [
    {
     "ename": "FileNotFoundError",
     "evalue": "Could not find required PAW dataset file \"C.PBE\".\n\nYou need to set the GPAW_SETUP_PATH environment variable to point to\nthe directories where PAW dataset and basis files are stored.  See\nhttps://wiki.fysik.dtu.dk/gpaw/install.html#install-paw-datasets\nfor details.\n",
     "output_type": "error",
     "traceback": [
      "\u001b[0;31m---------------------------------------------------------------------------\u001b[0m",
      "\u001b[0;31mFileNotFoundError\u001b[0m                         Traceback (most recent call last)",
      "Cell \u001b[0;32mIn[5], line 17\u001b[0m\n\u001b[1;32m     10\u001b[0m calc \u001b[39m=\u001b[39m GPAW(mode\u001b[39m=\u001b[39mPW(\u001b[39m350\u001b[39m),       \u001b[39m# planewave cutoff  350\u001b[39;00m\n\u001b[1;32m     11\u001b[0m             xc\u001b[39m=\u001b[39m\u001b[39m'\u001b[39m\u001b[39mPBE\u001b[39m\u001b[39m'\u001b[39m,             \u001b[39m# the exchange-correlation functional\u001b[39;00m\n\u001b[1;32m     12\u001b[0m             nbands\u001b[39m=\u001b[39m\u001b[39m6\u001b[39m,             \u001b[39m# number of bands\u001b[39;00m\n\u001b[1;32m     13\u001b[0m             occupations\u001b[39m=\u001b[39m{\u001b[39m'\u001b[39m\u001b[39mname\u001b[39m\u001b[39m'\u001b[39m: \u001b[39m'\u001b[39m\u001b[39mmethfessel-paxton\u001b[39m\u001b[39m'\u001b[39m, \u001b[39m'\u001b[39m\u001b[39mwidth\u001b[39m\u001b[39m'\u001b[39m: \u001b[39m0.01\u001b[39m, \u001b[39m'\u001b[39m\u001b[39morder\u001b[39m\u001b[39m'\u001b[39m: \u001b[39m0\u001b[39m},    \u001b[39m# Methfessel-Paxton smearing\u001b[39;00m\n\u001b[1;32m     14\u001b[0m             txt\u001b[39m=\u001b[39m\u001b[39m'\u001b[39m\u001b[39mH.out\u001b[39m\u001b[39m'\u001b[39m    )\n\u001b[1;32m     15\u001b[0m co\u001b[39m.\u001b[39mcalc \u001b[39m=\u001b[39m calc\n\u001b[0;32m---> 17\u001b[0m \u001b[39mprint\u001b[39m(\u001b[39m'\u001b[39m\u001b[39menergy = \u001b[39m\u001b[39m{0}\u001b[39;00m\u001b[39m eV\u001b[39m\u001b[39m'\u001b[39m\u001b[39m.\u001b[39mformat(co\u001b[39m.\u001b[39;49mget_potential_energy()))\n\u001b[1;32m     18\u001b[0m \u001b[39mprint\u001b[39m(co\u001b[39m.\u001b[39mget_forces())\n",
      "File \u001b[0;32m~/app/miniconda3/envs/py310ase/lib/python3.10/site-packages/ase/atoms.py:731\u001b[0m, in \u001b[0;36mAtoms.get_potential_energy\u001b[0;34m(self, force_consistent, apply_constraint)\u001b[0m\n\u001b[1;32m    728\u001b[0m     energy \u001b[39m=\u001b[39m \u001b[39mself\u001b[39m\u001b[39m.\u001b[39m_calc\u001b[39m.\u001b[39mget_potential_energy(\n\u001b[1;32m    729\u001b[0m         \u001b[39mself\u001b[39m, force_consistent\u001b[39m=\u001b[39mforce_consistent)\n\u001b[1;32m    730\u001b[0m \u001b[39melse\u001b[39;00m:\n\u001b[0;32m--> 731\u001b[0m     energy \u001b[39m=\u001b[39m \u001b[39mself\u001b[39;49m\u001b[39m.\u001b[39;49m_calc\u001b[39m.\u001b[39;49mget_potential_energy(\u001b[39mself\u001b[39;49m)\n\u001b[1;32m    732\u001b[0m \u001b[39mif\u001b[39;00m apply_constraint:\n\u001b[1;32m    733\u001b[0m     \u001b[39mfor\u001b[39;00m constraint \u001b[39min\u001b[39;00m \u001b[39mself\u001b[39m\u001b[39m.\u001b[39mconstraints:\n",
      "File \u001b[0;32m~/app/miniconda3/envs/py310ase/lib/python3.10/site-packages/ase/calculators/calculator.py:709\u001b[0m, in \u001b[0;36mCalculator.get_potential_energy\u001b[0;34m(self, atoms, force_consistent)\u001b[0m\n\u001b[1;32m    708\u001b[0m \u001b[39mdef\u001b[39;00m \u001b[39mget_potential_energy\u001b[39m(\u001b[39mself\u001b[39m, atoms\u001b[39m=\u001b[39m\u001b[39mNone\u001b[39;00m, force_consistent\u001b[39m=\u001b[39m\u001b[39mFalse\u001b[39;00m):\n\u001b[0;32m--> 709\u001b[0m     energy \u001b[39m=\u001b[39m \u001b[39mself\u001b[39;49m\u001b[39m.\u001b[39;49mget_property(\u001b[39m'\u001b[39;49m\u001b[39menergy\u001b[39;49m\u001b[39m'\u001b[39;49m, atoms)\n\u001b[1;32m    710\u001b[0m     \u001b[39mif\u001b[39;00m force_consistent:\n\u001b[1;32m    711\u001b[0m         \u001b[39mif\u001b[39;00m \u001b[39m'\u001b[39m\u001b[39mfree_energy\u001b[39m\u001b[39m'\u001b[39m \u001b[39mnot\u001b[39;00m \u001b[39min\u001b[39;00m \u001b[39mself\u001b[39m\u001b[39m.\u001b[39mresults:\n",
      "File \u001b[0;32m~/app/miniconda3/envs/py310ase/lib/python3.10/site-packages/ase/calculators/calculator.py:737\u001b[0m, in \u001b[0;36mCalculator.get_property\u001b[0;34m(self, name, atoms, allow_calculation)\u001b[0m\n\u001b[1;32m    735\u001b[0m     \u001b[39mif\u001b[39;00m \u001b[39mnot\u001b[39;00m allow_calculation:\n\u001b[1;32m    736\u001b[0m         \u001b[39mreturn\u001b[39;00m \u001b[39mNone\u001b[39;00m\n\u001b[0;32m--> 737\u001b[0m     \u001b[39mself\u001b[39;49m\u001b[39m.\u001b[39;49mcalculate(atoms, [name], system_changes)\n\u001b[1;32m    739\u001b[0m \u001b[39mif\u001b[39;00m name \u001b[39mnot\u001b[39;00m \u001b[39min\u001b[39;00m \u001b[39mself\u001b[39m\u001b[39m.\u001b[39mresults:\n\u001b[1;32m    740\u001b[0m     \u001b[39m# For some reason the calculator was not able to do what we want,\u001b[39;00m\n\u001b[1;32m    741\u001b[0m     \u001b[39m# and that is OK.\u001b[39;00m\n\u001b[1;32m    742\u001b[0m     \u001b[39mraise\u001b[39;00m PropertyNotImplementedError(\u001b[39m'\u001b[39m\u001b[39m{}\u001b[39;00m\u001b[39m not present in this \u001b[39m\u001b[39m'\u001b[39m\n\u001b[1;32m    743\u001b[0m                                       \u001b[39m'\u001b[39m\u001b[39mcalculation\u001b[39m\u001b[39m'\u001b[39m\u001b[39m.\u001b[39mformat(name))\n",
      "File \u001b[0;32m~/app/miniconda3/envs/py310ase/lib/python3.10/site-packages/gpaw/calculator.py:353\u001b[0m, in \u001b[0;36mGPAW.calculate\u001b[0;34m(self, atoms, properties, system_changes)\u001b[0m\n\u001b[1;32m    351\u001b[0m \u001b[39mdef\u001b[39;00m \u001b[39mcalculate\u001b[39m(\u001b[39mself\u001b[39m, atoms\u001b[39m=\u001b[39m\u001b[39mNone\u001b[39;00m, properties\u001b[39m=\u001b[39m[\u001b[39m'\u001b[39m\u001b[39menergy\u001b[39m\u001b[39m'\u001b[39m],\n\u001b[1;32m    352\u001b[0m               system_changes\u001b[39m=\u001b[39m[\u001b[39m'\u001b[39m\u001b[39mcell\u001b[39m\u001b[39m'\u001b[39m]):\n\u001b[0;32m--> 353\u001b[0m     \u001b[39mfor\u001b[39;00m _ \u001b[39min\u001b[39;00m \u001b[39mself\u001b[39m\u001b[39m.\u001b[39micalculate(atoms, properties, system_changes):\n\u001b[1;32m    354\u001b[0m         \u001b[39mpass\u001b[39;00m\n",
      "File \u001b[0;32m~/app/miniconda3/envs/py310ase/lib/python3.10/site-packages/gpaw/calculator.py:374\u001b[0m, in \u001b[0;36mGPAW.icalculate\u001b[0;34m(self, atoms, properties, system_changes)\u001b[0m\n\u001b[1;32m    372\u001b[0m         \u001b[39mself\u001b[39m\u001b[39m.\u001b[39mhamiltonian \u001b[39m=\u001b[39m \u001b[39mNone\u001b[39;00m\n\u001b[1;32m    373\u001b[0m         \u001b[39mself\u001b[39m\u001b[39m.\u001b[39mscf \u001b[39m=\u001b[39m \u001b[39mNone\u001b[39;00m\n\u001b[0;32m--> 374\u001b[0m         \u001b[39mself\u001b[39;49m\u001b[39m.\u001b[39;49minitialize(atoms)\n\u001b[1;32m    376\u001b[0m     \u001b[39mself\u001b[39m\u001b[39m.\u001b[39mset_positions(atoms)\n\u001b[1;32m    378\u001b[0m \u001b[39mif\u001b[39;00m \u001b[39mnot\u001b[39;00m \u001b[39mself\u001b[39m\u001b[39m.\u001b[39minitialized:\n",
      "File \u001b[0;32m~/app/miniconda3/envs/py310ase/lib/python3.10/site-packages/gpaw/calculator.py:669\u001b[0m, in \u001b[0;36mGPAW.initialize\u001b[0;34m(self, atoms, reading)\u001b[0m\n\u001b[1;32m    664\u001b[0m     \u001b[39mraise\u001b[39;00m \u001b[39mValueError\u001b[39;00m(\u001b[39m'\u001b[39m\u001b[39mLCAO mode does not support \u001b[39m\u001b[39m'\u001b[39m\n\u001b[1;32m    665\u001b[0m                      \u001b[39m'\u001b[39m\u001b[39morbital-dependent XC functionals.\u001b[39m\u001b[39m'\u001b[39m)\n\u001b[1;32m    667\u001b[0m realspace \u001b[39m=\u001b[39m (mode\u001b[39m.\u001b[39mname \u001b[39m!=\u001b[39m \u001b[39m'\u001b[39m\u001b[39mpw\u001b[39m\u001b[39m'\u001b[39m \u001b[39mand\u001b[39;00m mode\u001b[39m.\u001b[39minterpolation \u001b[39m!=\u001b[39m \u001b[39m'\u001b[39m\u001b[39mfft\u001b[39m\u001b[39m'\u001b[39m)\n\u001b[0;32m--> 669\u001b[0m \u001b[39mself\u001b[39;49m\u001b[39m.\u001b[39;49mcreate_setups(mode, xc)\n\u001b[1;32m    671\u001b[0m \u001b[39mif\u001b[39;00m \u001b[39mnot\u001b[39;00m realspace:\n\u001b[1;32m    672\u001b[0m     pbc_c \u001b[39m=\u001b[39m np\u001b[39m.\u001b[39mones(\u001b[39m3\u001b[39m, \u001b[39mbool\u001b[39m)\n",
      "File \u001b[0;32m~/app/miniconda3/envs/py310ase/lib/python3.10/site-packages/gpaw/calculator.py:932\u001b[0m, in \u001b[0;36mGPAW.create_setups\u001b[0;34m(self, mode, xc)\u001b[0m\n\u001b[1;32m    929\u001b[0m     \u001b[39mfilter\u001b[39m \u001b[39m=\u001b[39m \u001b[39mself\u001b[39m\u001b[39m.\u001b[39mparameters\u001b[39m.\u001b[39mfilter\n\u001b[1;32m    931\u001b[0m Z_a \u001b[39m=\u001b[39m \u001b[39mself\u001b[39m\u001b[39m.\u001b[39matoms\u001b[39m.\u001b[39mget_atomic_numbers()\n\u001b[0;32m--> 932\u001b[0m \u001b[39mself\u001b[39m\u001b[39m.\u001b[39msetups \u001b[39m=\u001b[39m Setups(Z_a,\n\u001b[1;32m    933\u001b[0m                      \u001b[39mself\u001b[39;49m\u001b[39m.\u001b[39;49mparameters\u001b[39m.\u001b[39;49msetups, \u001b[39mself\u001b[39;49m\u001b[39m.\u001b[39;49mparameters\u001b[39m.\u001b[39;49mbasis,\n\u001b[1;32m    934\u001b[0m                      xc, \u001b[39mfilter\u001b[39;49m, \u001b[39mself\u001b[39;49m\u001b[39m.\u001b[39;49mworld)\n\u001b[1;32m    935\u001b[0m \u001b[39mself\u001b[39m\u001b[39m.\u001b[39mlog(\u001b[39mself\u001b[39m\u001b[39m.\u001b[39msetups)\n",
      "File \u001b[0;32m~/app/miniconda3/envs/py310ase/lib/python3.10/site-packages/gpaw/setup.py:1400\u001b[0m, in \u001b[0;36mSetups.__init__\u001b[0;34m(self, Z_a, setup_types, basis_sets, xc, filter, world)\u001b[0m\n\u001b[1;32m   1398\u001b[0m \u001b[39mif\u001b[39;00m \u001b[39misinstance\u001b[39m(basis, \u001b[39mstr\u001b[39m):\n\u001b[1;32m   1399\u001b[0m     basis \u001b[39m=\u001b[39m Basis(symbol, basis, world\u001b[39m=\u001b[39mworld)\n\u001b[0;32m-> 1400\u001b[0m setup \u001b[39m=\u001b[39m create_setup(symbol, xc, \u001b[39m2\u001b[39;49m, \u001b[39mtype\u001b[39;49m,\n\u001b[1;32m   1401\u001b[0m                      basis, setupdata\u001b[39m=\u001b[39;49msetupdata,\n\u001b[1;32m   1402\u001b[0m                      \u001b[39mfilter\u001b[39;49m\u001b[39m=\u001b[39;49m\u001b[39mfilter\u001b[39;49m, world\u001b[39m=\u001b[39;49mworld)\n\u001b[1;32m   1403\u001b[0m \u001b[39mself\u001b[39m\u001b[39m.\u001b[39msetups[\u001b[39mid\u001b[39m] \u001b[39m=\u001b[39m setup\n\u001b[1;32m   1404\u001b[0m natoms[\u001b[39mid\u001b[39m] \u001b[39m=\u001b[39m \u001b[39m0\u001b[39m\n",
      "File \u001b[0;32m~/app/miniconda3/envs/py310ase/lib/python3.10/site-packages/gpaw/setup.py:99\u001b[0m, in \u001b[0;36mcreate_setup\u001b[0;34m(symbol, xc, lmax, type, basis, setupdata, filter, world)\u001b[0m\n\u001b[1;32m     95\u001b[0m             \u001b[39mraise\u001b[39;00m \u001b[39mValueError\u001b[39;00m(\u001b[39m'\u001b[39m\u001b[39mSG15 pseudopotentials support only the PBE \u001b[39m\u001b[39m'\u001b[39m\n\u001b[1;32m     96\u001b[0m                              \u001b[39m'\u001b[39m\u001b[39mfunctional.  This calculation would use \u001b[39m\u001b[39m'\u001b[39m\n\u001b[1;32m     97\u001b[0m                              \u001b[39m'\u001b[39m\u001b[39mthe \u001b[39m\u001b[39m%s\u001b[39;00m\u001b[39m functional.\u001b[39m\u001b[39m'\u001b[39m \u001b[39m%\u001b[39m xc\u001b[39m.\u001b[39mget_setup_name())\n\u001b[1;32m     98\u001b[0m     \u001b[39melse\u001b[39;00m:\n\u001b[0;32m---> 99\u001b[0m         setupdata \u001b[39m=\u001b[39m SetupData(symbol, xc\u001b[39m.\u001b[39;49mget_setup_name(),\n\u001b[1;32m    100\u001b[0m                               \u001b[39mtype\u001b[39;49m, \u001b[39mTrue\u001b[39;49;00m,\n\u001b[1;32m    101\u001b[0m                               world\u001b[39m=\u001b[39;49mworld)\n\u001b[1;32m    102\u001b[0m \u001b[39mif\u001b[39;00m \u001b[39mhasattr\u001b[39m(setupdata, \u001b[39m'\u001b[39m\u001b[39mbuild\u001b[39m\u001b[39m'\u001b[39m):\n\u001b[1;32m    103\u001b[0m     setup \u001b[39m=\u001b[39m LeanSetup(setupdata\u001b[39m.\u001b[39mbuild(xc, lmax, basis, \u001b[39mfilter\u001b[39m))\n",
      "File \u001b[0;32m~/app/miniconda3/envs/py310ase/lib/python3.10/site-packages/gpaw/setup_data.py:116\u001b[0m, in \u001b[0;36mSetupData.__init__\u001b[0;34m(self, symbol, xcsetupname, name, readxml, zero_reference, world, generator_version)\u001b[0m\n\u001b[1;32m    113\u001b[0m \u001b[39mself\u001b[39m\u001b[39m.\u001b[39morbital_free \u001b[39m=\u001b[39m \u001b[39mFalse\u001b[39;00m  \u001b[39m# orbital-free DFT\u001b[39;00m\n\u001b[1;32m    115\u001b[0m \u001b[39mif\u001b[39;00m readxml:\n\u001b[0;32m--> 116\u001b[0m     \u001b[39mself\u001b[39;49m\u001b[39m.\u001b[39;49mread_xml(world\u001b[39m=\u001b[39;49mworld)\n\u001b[1;32m    118\u001b[0m \u001b[39mself\u001b[39m\u001b[39m.\u001b[39mversion: \u001b[39mstr\u001b[39m\n",
      "File \u001b[0;32m~/app/miniconda3/envs/py310ase/lib/python3.10/site-packages/gpaw/setup_data.py:136\u001b[0m, in \u001b[0;36mSetupData.read_xml\u001b[0;34m(self, source, world)\u001b[0m\n\u001b[1;32m    135\u001b[0m \u001b[39mdef\u001b[39;00m \u001b[39mread_xml\u001b[39m(\u001b[39mself\u001b[39m, source\u001b[39m=\u001b[39m\u001b[39mNone\u001b[39;00m, world\u001b[39m=\u001b[39m\u001b[39mNone\u001b[39;00m):\n\u001b[0;32m--> 136\u001b[0m     PAWXMLParser(\u001b[39mself\u001b[39;49m)\u001b[39m.\u001b[39;49mparse(source\u001b[39m=\u001b[39;49msource, world\u001b[39m=\u001b[39;49mworld)\n\u001b[1;32m    137\u001b[0m     nj \u001b[39m=\u001b[39m \u001b[39mlen\u001b[39m(\u001b[39mself\u001b[39m\u001b[39m.\u001b[39ml_j)\n\u001b[1;32m    138\u001b[0m     \u001b[39mself\u001b[39m\u001b[39m.\u001b[39me_kin_jj\u001b[39m.\u001b[39mshape \u001b[39m=\u001b[39m (nj, nj)\n",
      "File \u001b[0;32m~/app/miniconda3/envs/py310ase/lib/python3.10/site-packages/gpaw/setup_data.py:451\u001b[0m, in \u001b[0;36mPAWXMLParser.parse\u001b[0;34m(self, source, world)\u001b[0m\n\u001b[1;32m    449\u001b[0m setup \u001b[39m=\u001b[39m \u001b[39mself\u001b[39m\u001b[39m.\u001b[39msetup\n\u001b[1;32m    450\u001b[0m \u001b[39mif\u001b[39;00m source \u001b[39mis\u001b[39;00m \u001b[39mNone\u001b[39;00m:\n\u001b[0;32m--> 451\u001b[0m     setup\u001b[39m.\u001b[39mfilename, source \u001b[39m=\u001b[39m search_for_file(setup\u001b[39m.\u001b[39;49mstdfilename, world)\n\u001b[1;32m    453\u001b[0m setup\u001b[39m.\u001b[39mfingerprint \u001b[39m=\u001b[39m hashlib\u001b[39m.\u001b[39mmd5(source)\u001b[39m.\u001b[39mhexdigest()\n\u001b[1;32m    455\u001b[0m \u001b[39m# XXXX There must be a better way!\u001b[39;00m\n\u001b[1;32m    456\u001b[0m \u001b[39m# We don't want to look at the dtd now.  Remove it:\u001b[39;00m\n",
      "File \u001b[0;32m~/app/miniconda3/envs/py310ase/lib/python3.10/site-packages/gpaw/setup_data.py:436\u001b[0m, in \u001b[0;36msearch_for_file\u001b[0;34m(name, world)\u001b[0m\n\u001b[1;32m    430\u001b[0m         err \u001b[39m=\u001b[39m \u001b[39mf\u001b[39m\u001b[39m'\u001b[39m\u001b[39mCould not find required \u001b[39m\u001b[39m{\u001b[39;00m_type\u001b[39m}\u001b[39;00m\u001b[39m file \u001b[39m\u001b[39m\"\u001b[39m\u001b[39m{\u001b[39;00mname\u001b[39m}\u001b[39;00m\u001b[39m\"\u001b[39m\u001b[39m.\u001b[39m\u001b[39m'\u001b[39m\n\u001b[1;32m    431\u001b[0m         helpful_message \u001b[39m=\u001b[39m \u001b[39m\"\"\"\u001b[39m\n\u001b[1;32m    432\u001b[0m \u001b[39mYou need to set the GPAW_SETUP_PATH environment variable to point to\u001b[39m\n\u001b[1;32m    433\u001b[0m \u001b[39mthe directories where PAW dataset and basis files are stored.  See\u001b[39m\n\u001b[1;32m    434\u001b[0m \u001b[39mhttps://wiki.fysik.dtu.dk/gpaw/install.html#install-paw-datasets\u001b[39m\n\u001b[1;32m    435\u001b[0m \u001b[39mfor details.\u001b[39m\u001b[39m\"\"\"\u001b[39m\n\u001b[0;32m--> 436\u001b[0m         \u001b[39mraise\u001b[39;00m \u001b[39mFileNotFoundError\u001b[39;00m(\u001b[39mf\u001b[39m\u001b[39m'\u001b[39m\u001b[39m{\u001b[39;00merr\u001b[39m}\u001b[39;00m\u001b[39m\\n\u001b[39;00m\u001b[39m{\u001b[39;00mhelpful_message\u001b[39m}\u001b[39;00m\u001b[39m\\n\u001b[39;00m\u001b[39m'\u001b[39m)\n\u001b[1;32m    438\u001b[0m     \u001b[39mreturn\u001b[39;00m filename, source\n",
      "\u001b[0;31mFileNotFoundError\u001b[0m: Could not find required PAW dataset file \"C.PBE\".\n\nYou need to set the GPAW_SETUP_PATH environment variable to point to\nthe directories where PAW dataset and basis files are stored.  See\nhttps://wiki.fysik.dtu.dk/gpaw/install.html#install-paw-datasets\nfor details.\n"
     ]
    }
   ],
   "source": [
    "from ase import Atoms, Atom\n",
    "from gpaw import GPAW, PW, FermiDirac\n",
    "\n",
    "# Define molecule\n",
    "co = Atoms([Atom('C', [0, 0, 0]),\n",
    "            Atom('O', [1.2, 0, 0])],\n",
    "           cell=(6., 6., 6.))\n",
    "\n",
    "# gpaw calculator:\n",
    "calc = GPAW(mode=PW(350),       # planewave cutoff  350\n",
    "            xc='PBE',             # the exchange-correlation functional\n",
    "            nbands=6,             # number of bands\n",
    "            occupations={'name': 'methfessel-paxton', 'width': 0.01, 'order': 0},    # Methfessel-Paxton smearing\n",
    "            txt='H.out'    )\n",
    "co.calc = calc\n",
    "\n",
    "print('energy = {0} eV'.format(co.get_potential_energy()))\n",
    "print(co.get_forces())"
   ]
  },
  {
   "cell_type": "code",
   "execution_count": null,
   "metadata": {},
   "outputs": [],
   "source": [
    "from ase import Atoms, Atom\n",
    "from vasp import Vasp\n",
    "co = Atoms([Atom('C', [0, 0, 0]),\n",
    "            Atom('O', [1.2, 0, 0])],\n",
    "           cell=(6., 6., 6.))\n",
    "calc = Vasp('molecules/simple-co',  # output dir\n",
    "            xc='pbe',  # the exchange-correlation functional\n",
    "            nbands=6,    # number of bands\n",
    "            encut=350,    # planewave cutoff\n",
    "            ismear=1,    # Methfessel-Paxton smearing\n",
    "            sigma=0.01,  # very small smearing factor for a molecule\n",
    "            atoms=co)\n",
    "print('energy = {0} eV'.format(co.get_potential_energy()))\n",
    "print(co.get_forces())"
   ]
  }
 ],
 "metadata": {
  "kernelspec": {
   "display_name": "py310ase",
   "language": "python",
   "name": "python3"
  },
  "language_info": {
   "codemirror_mode": {
    "name": "ipython",
    "version": 3
   },
   "file_extension": ".py",
   "mimetype": "text/x-python",
   "name": "python",
   "nbconvert_exporter": "python",
   "pygments_lexer": "ipython3",
   "version": "3.10.9"
  },
  "orig_nbformat": 4,
  "vscode": {
   "interpreter": {
    "hash": "2b80a1db805314050a95b0524732ca6d95947e0f004c74cdad4d518021bdf051"
   }
  }
 },
 "nbformat": 4,
 "nbformat_minor": 2
}
