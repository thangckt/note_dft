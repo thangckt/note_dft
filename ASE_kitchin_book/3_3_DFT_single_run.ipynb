{
 "cells": [
  {
   "attachments": {},
   "cell_type": "markdown",
   "metadata": {},
   "source": [
    "## Install GPAW\n",
    "\n",
    "just work on Linux, python=3.10\n",
    "\n",
    "```sh\n",
    "conda install -c conda-forge gcc=12 gxx=12 libstdcxx-ng=12\n",
    "conda install -c conda-forge  openmpi openmp blas libxc scalapack fftw libvdwxc elpa\n",
    "pip install --upgrade git+https://gitlab.com/ase/ase.git@master\n",
    "pip install --upgrade  git+https://gitlab.com/gpaw/gpaw.git \n",
    "```\n",
    "\n",
    "**Test**\n",
    "Run in env `py310ase`\n",
    "\n",
    "```sh\n",
    "gpaw test\n",
    "\n",
    "gpaw install-data --register ~/PAWDATA\n",
    "```\n",
    "\n",
    "NOTE:\n",
    "- [fix GPAW_SETUP_PATH](https://jensj.gitlab.io/gpaw-2021-talk/slides/slide-09.html)"
   ]
  },
  {
   "attachments": {},
   "cell_type": "markdown",
   "metadata": {},
   "source": [
    "## Simple properties with single DFT Calculations\n",
    "\n",
    "### Energy and forces\n",
    "\n",
    "Two of the most important quantities we are interested in are the total energy and the forces on the atoms.\n",
    "- Define a calculator and attach it to an `ase.Atoms` object so that `ase` knows how to get the data\n",
    "- Run DFT calculation\n",
    "\n",
    "Here is an example of getting the energy and forces from a CO molecule. "
   ]
  },
  {
   "cell_type": "code",
   "execution_count": 2,
   "metadata": {},
   "outputs": [
    {
     "name": "stdout",
     "output_type": "stream",
     "text": [
      "energy = -10.991823929044907 eV\n",
      "[[ 3.69941449e+00  0.00000000e+00  0.00000000e+00]\n",
      " [-3.71185076e+00 -5.07060730e-30  0.00000000e+00]]\n"
     ]
    }
   ],
   "source": [
    "from ase import Atoms, Atom\n",
    "from gpaw import GPAW, PW, FermiDirac\n",
    "\n",
    "# Define molecule\n",
    "co = Atoms([Atom('C', [0, 0, 0]),\n",
    "            Atom('O', [1.2, 0, 0])],\n",
    "           cell=(6., 6., 6.))\n",
    "\n",
    "# gpaw calculator:\n",
    "calc = GPAW(mode=PW(350),       # planewave cutoff  350\n",
    "            xc='PBE',             # the exchange-correlation functional\n",
    "            nbands=6,             # number of bands\n",
    "            occupations={'name': 'methfessel-paxton', 'width': 0.01, 'order': 0},    # Methfessel-Paxton smearing\n",
    "            txt='H.out'    )\n",
    "co.calc = calc\n",
    "\n",
    "print('energy = {0} eV'.format(co.get_potential_energy()))\n",
    "print(co.get_forces())"
   ]
  },
  {
   "cell_type": "code",
   "execution_count": 1,
   "metadata": {},
   "outputs": [
    {
     "ename": "ModuleNotFoundError",
     "evalue": "No module named 'vasp'",
     "output_type": "error",
     "traceback": [
      "\u001b[0;31m---------------------------------------------------------------------------\u001b[0m",
      "\u001b[0;31mModuleNotFoundError\u001b[0m                       Traceback (most recent call last)",
      "Cell \u001b[0;32mIn[1], line 2\u001b[0m\n\u001b[1;32m      1\u001b[0m \u001b[39mfrom\u001b[39;00m \u001b[39mase\u001b[39;00m \u001b[39mimport\u001b[39;00m Atoms, Atom\n\u001b[0;32m----> 2\u001b[0m \u001b[39mfrom\u001b[39;00m \u001b[39mvasp\u001b[39;00m \u001b[39mimport\u001b[39;00m Vasp\n\u001b[1;32m      3\u001b[0m co \u001b[39m=\u001b[39m Atoms([Atom(\u001b[39m'\u001b[39m\u001b[39mC\u001b[39m\u001b[39m'\u001b[39m, [\u001b[39m0\u001b[39m, \u001b[39m0\u001b[39m, \u001b[39m0\u001b[39m]),\n\u001b[1;32m      4\u001b[0m             Atom(\u001b[39m'\u001b[39m\u001b[39mO\u001b[39m\u001b[39m'\u001b[39m, [\u001b[39m1.2\u001b[39m, \u001b[39m0\u001b[39m, \u001b[39m0\u001b[39m])],\n\u001b[1;32m      5\u001b[0m            cell\u001b[39m=\u001b[39m(\u001b[39m6.\u001b[39m, \u001b[39m6.\u001b[39m, \u001b[39m6.\u001b[39m))\n\u001b[1;32m      6\u001b[0m calc \u001b[39m=\u001b[39m Vasp(\u001b[39m'\u001b[39m\u001b[39mmolecules/simple-co\u001b[39m\u001b[39m'\u001b[39m,  \u001b[39m# output dir\u001b[39;00m\n\u001b[1;32m      7\u001b[0m             xc\u001b[39m=\u001b[39m\u001b[39m'\u001b[39m\u001b[39mpbe\u001b[39m\u001b[39m'\u001b[39m,  \u001b[39m# the exchange-correlation functional\u001b[39;00m\n\u001b[1;32m      8\u001b[0m             nbands\u001b[39m=\u001b[39m\u001b[39m6\u001b[39m,    \u001b[39m# number of bands\u001b[39;00m\n\u001b[0;32m   (...)\u001b[0m\n\u001b[1;32m     11\u001b[0m             sigma\u001b[39m=\u001b[39m\u001b[39m0.01\u001b[39m,  \u001b[39m# very small smearing factor for a molecule\u001b[39;00m\n\u001b[1;32m     12\u001b[0m             atoms\u001b[39m=\u001b[39mco)\n",
      "\u001b[0;31mModuleNotFoundError\u001b[0m: No module named 'vasp'"
     ]
    }
   ],
   "source": [
    "from ase import Atoms, Atom\n",
    "from vasp import Vasp\n",
    "co = Atoms([Atom('C', [0, 0, 0]),\n",
    "            Atom('O', [1.2, 0, 0])],\n",
    "           cell=(6., 6., 6.))\n",
    "calc = Vasp('molecules/simple-co',  # output dir\n",
    "            xc='pbe',  # the exchange-correlation functional\n",
    "            nbands=6,    # number of bands\n",
    "            encut=350,    # planewave cutoff\n",
    "            ismear=1,    # Methfessel-Paxton smearing\n",
    "            sigma=0.01,  # very small smearing factor for a molecule\n",
    "            atoms=co)\n",
    "print('energy = {0} eV'.format(co.get_potential_energy()))\n",
    "print(co.get_forces())"
   ]
  }
 ],
 "metadata": {
  "kernelspec": {
   "display_name": "py310ase",
   "language": "python",
   "name": "python3"
  },
  "language_info": {
   "codemirror_mode": {
    "name": "ipython",
    "version": 3
   },
   "file_extension": ".py",
   "mimetype": "text/x-python",
   "name": "python",
   "nbconvert_exporter": "python",
   "pygments_lexer": "ipython3",
   "version": "3.10.8"
  },
  "orig_nbformat": 4,
  "vscode": {
   "interpreter": {
    "hash": "2b80a1db805314050a95b0524732ca6d95947e0f004c74cdad4d518021bdf051"
   }
  }
 },
 "nbformat": 4,
 "nbformat_minor": 2
}
