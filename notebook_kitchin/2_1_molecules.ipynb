{
 "cells": [
  {
   "attachments": {},
   "cell_type": "markdown",
   "metadata": {},
   "source": [
    "\n",
    "\n",
    "## Defining and Visualizing molecules\n",
    "\n",
    "\n",
    "### From scratch\n",
    "\n",
    "When there is no data file for molecules, we define it by hand\n",
    "\n",
    "[Visualize with ASE](https://wiki.fysik.dtu.dk/ase//ase/visualize/visualize.html)\n",
    "```\n",
    "%pip install git+https://github.com/arose/nglview\n",
    "```"
   ]
  },
  {
   "cell_type": "code",
   "execution_count": 7,
   "metadata": {},
   "outputs": [],
   "source": [
    "from ase import Atoms, Atom\n",
    "from ase.visualize import view\n",
    "import numpy as np"
   ]
  },
  {
   "cell_type": "code",
   "execution_count": 13,
   "metadata": {},
   "outputs": [
    {
     "name": "stdout",
     "output_type": "stream",
     "text": [
      "V = 1000 Ang^3\n"
     ]
    },
    {
     "data": {
      "text/plain": [
       "<Popen: returncode: None args: ['c:\\\\DevProgram\\\\miniconda3\\\\envs\\\\py39ase\\\\...>"
      ]
     },
     "execution_count": 13,
     "metadata": {},
     "output_type": "execute_result"
    }
   ],
   "source": [
    "# define an Atoms object\n",
    "atoms = Atoms([Atom('C', [0., 0., 0.]),\n",
    "                Atom('O', [1.1, 0., 0.])],\n",
    "                cell=(10, 10, 10))\n",
    "\n",
    "print('V = {0:1.0f} Ang^3'.format(atoms.get_volume()))     \n",
    "# visualize\n",
    "view(atoms, ) #viewer='ngl'"
   ]
  },
  {
   "cell_type": "code",
   "execution_count": 11,
   "metadata": {},
   "outputs": [
    {
     "data": {
      "text/plain": [
       "<Popen: returncode: None args: ['c:\\\\DevProgram\\\\miniconda3\\\\envs\\\\py39ase\\\\...>"
      ]
     },
     "execution_count": 11,
     "metadata": {},
     "output_type": "execute_result"
    }
   ],
   "source": [
    "## use FCC lattice\n",
    "b = 7.1\n",
    "atoms = Atoms([Atom('C', [0., 0., 0.]),\n",
    "                Atom('O', [1.1, 0., 0.])],\n",
    "                cell=[[b, b, 0.],\n",
    "                [b, 0., b],\n",
    "                [0., b, b]])\n",
    "atoms.center() # translate atoms to center of unit cell\n",
    "\n",
    "view(atoms) "
   ]
  },
  {
   "cell_type": "code",
   "execution_count": 12,
   "metadata": {},
   "outputs": [
    {
     "name": "stdout",
     "output_type": "stream",
     "text": [
      "|a1| = 10.04 Ang\n",
      "|a2| = 10.04 Ang\n",
      "|a3| = 10.04 Ang\n",
      "V = 716 Ang^3\n"
     ]
    }
   ],
   "source": [
    "# get unit cell vectors and their lengths\n",
    "(a1, a2, a3) = atoms.get_cell()\n",
    "print('|a1| = {0:1.2f} Ang'.format(np.sum(a1**2)**0.5))\n",
    "print('|a2| = {0:1.2f} Ang'.format(np.linalg.norm(a2)))\n",
    "print('|a3| = {0:1.2f} Ang'.format(np.sum(a3**2)**0.5))\n",
    "\n",
    "print('V = {0:1.0f} Ang^3'.format(atoms.get_volume()))    "
   ]
  },
  {
   "attachments": {},
   "cell_type": "markdown",
   "metadata": {},
   "source": [
    "### Reading other data formats\n",
    "\n",
    "[`ase.io.read`](https://wiki.fysik.dtu.dk/ase/ase/io/io.html) supports many different file formats.\n",
    "\n",
    "Note that the XYZ format does not have unit cell information in it, so you will have to figure out a way to provide it."
   ]
  },
  {
   "cell_type": "code",
   "execution_count": 14,
   "metadata": {},
   "outputs": [
    {
     "data": {
      "text/plain": [
       "<Popen: returncode: None args: ['c:\\\\DevProgram\\\\miniconda3\\\\envs\\\\py39ase\\\\...>"
      ]
     },
     "execution_count": 14,
     "metadata": {},
     "output_type": "execute_result"
    }
   ],
   "source": [
    "from ase.io import read, write\n",
    "\n",
    "atoms = read('isobutane.xyz')\n",
    "atoms.center(vacuum=5)\n",
    "\n",
    "view(atoms) "
   ]
  },
  {
   "attachments": {},
   "cell_type": "markdown",
   "metadata": {},
   "source": [
    "### ASE's Predefined molecules\n",
    "\n",
    "[`ase.data`]() contains a broad set of atoms\n",
    "and molecules for which good experimental data exists, making them useful for benchmarking studies"
   ]
  },
  {
   "cell_type": "code",
   "execution_count": 32,
   "metadata": {},
   "outputs": [
    {
     "data": {
      "text/plain": [
       "dict_keys(['Be', 'BeH', 'C', 'C2H2', 'C2H4', 'C2H6', 'CH', 'CH2_s1A1d', 'CH2_s3B1d', 'CH3', 'CH3Cl', 'CH3OH', 'CH3SH', 'CH4', 'CN', 'CO', 'CO2', 'CS', 'Cl', 'Cl2', 'ClF', 'ClO', 'F', 'F2', 'H', 'H2CO', 'H2O', 'H2O2', 'HCN', 'HCO', 'HCl', 'HF', 'HOCl', 'Li', 'Li2', 'LiF', 'LiH', 'N', 'N2', 'N2H4', 'NH', 'NH2', 'NH3', 'NO', 'Na', 'Na2', 'NaCl', 'O', 'O2', 'OH', 'P', 'P2', 'PH2', 'PH3', 'S', 'S2', 'SH2', 'SO', 'SO2', 'Si', 'Si2', 'Si2H6', 'SiH2_s1A1d', 'SiH2_s3B1d', 'SiH3', 'SiH4', 'SiO', '2-butyne', 'Al', 'AlCl3', 'AlF3', 'B', 'BCl3', 'BF3', 'C2Cl4', 'C2F4', 'C2H3', 'C2H5', 'C2H6CHOH', 'C2H6NH', 'C2H6SO', 'C3H4_C2v', 'C3H4_C3v', 'C3H4_D2d', 'C3H6_Cs', 'C3H6_D3h', 'C3H7', 'C3H7Cl', 'C3H8', 'C3H9C', 'C3H9N', 'C4H4NH', 'C4H4O', 'C4H4S', 'C5H5N', 'C5H8', 'C6H6', 'CCH', 'CCl4', 'CF3CN', 'CF4', 'CH2NHCH2', 'CH2OCH2', 'CH2SCH2', 'CH3CH2Cl', 'CH3CH2NH2', 'CH3CH2O', 'CH3CH2OCH3', 'CH3CH2OH', 'CH3CH2SH', 'CH3CHO', 'CH3CN', 'CH3CO', 'CH3COCH3', 'CH3COCl', 'CH3COF', 'CH3CONH2', 'CH3COOH', 'CH3NO2', 'CH3O', 'CH3OCH3', 'CH3ONO', 'CH3S', 'CH3SCH3', 'CH3SiH3', 'COF2', 'CS2', 'ClF3', 'ClNO', 'F2O', 'H2', 'H2CCHCN', 'H2CCHCl', 'H2CCHF', 'H2CCO', 'H2CCl2', 'H2CF2', 'H2COH', 'H3CNH2', 'HCCl3', 'HCF3', 'HCOOCH3', 'HCOOH', 'N2O', 'NCCN', 'NF3', 'NO2', 'O3', 'OCHCHO', 'OCS', 'PF3', 'SH', 'SiCl4', 'SiF4', 'bicyclobutane', 'butadiene', 'cyclobutane', 'cyclobutene', 'isobutane', 'isobutene', 'methylenecyclopropane', 'trans-butane'])"
      ]
     },
     "execution_count": 32,
     "metadata": {},
     "output_type": "execute_result"
    }
   ],
   "source": [
    "from ase.data import g2\n",
    "keys = g2.data.keys()\n",
    "keys"
   ]
  },
  {
   "cell_type": "code",
   "execution_count": 36,
   "metadata": {},
   "outputs": [
    {
     "name": "stdout",
     "output_type": "stream",
     "text": [
      "Cell([0.0, 0.0, 0.0])\n"
     ]
    },
    {
     "data": {
      "text/plain": [
       "<Popen: returncode: None args: ['c:\\\\DevProgram\\\\miniconda3\\\\envs\\\\py39ase\\\\...>"
      ]
     },
     "execution_count": 36,
     "metadata": {},
     "output_type": "execute_result"
    }
   ],
   "source": [
    "from ase.build import molecule\n",
    "\n",
    "atoms = molecule('CH3CN')\n",
    "print(atoms.get_cell())\n",
    "view(atoms)"
   ]
  },
  {
   "attachments": {},
   "cell_type": "markdown",
   "metadata": {},
   "source": [
    "### Combine Atoms objects\n"
   ]
  },
  {
   "cell_type": "code",
   "execution_count": 39,
   "metadata": {},
   "outputs": [
    {
     "data": {
      "text/plain": [
       "<Popen: returncode: None args: ['c:\\\\DevProgram\\\\miniconda3\\\\envs\\\\py39ase\\\\...>"
      ]
     },
     "execution_count": 39,
     "metadata": {},
     "output_type": "execute_result"
    }
   ],
   "source": [
    "from ase.build import molecule\n",
    "\n",
    "atoms1 = molecule('NH3')\n",
    "\n",
    "atoms2 = molecule('O2')\n",
    "atoms2.translate([3, 0, 0])\n",
    "\n",
    "atoms = atoms1 + atoms2\n",
    "view(atoms)"
   ]
  },
  {
   "attachments": {},
   "cell_type": "markdown",
   "metadata": {},
   "source": [
    "## Simple properties with ASE\n",
    "\n",
    "### Getting cartesian positions\n",
    "\n",
    "for coordinates `ase.Atoms.get_positions` and for fractional coordinates, use `ase.Atoms.get_scaled_positions`"
   ]
  },
  {
   "cell_type": "code",
   "execution_count": 41,
   "metadata": {},
   "outputs": [
    {
     "name": "stdout",
     "output_type": "stream",
     "text": [
      " #  sym   p_x     p_y     p_z\n",
      "------------------------------\n",
      "  0 C      0.00    1.40    0.00\n",
      "  1 C      1.21    0.70    0.00\n",
      "  2 C      1.21   -0.70    0.00\n",
      "  3 C      0.00   -1.40    0.00\n",
      "  4 C     -1.21   -0.70    0.00\n",
      "  5 C     -1.21    0.70    0.00\n",
      "  6 H      0.00    2.48    0.00\n",
      "  7 H      2.15    1.24    0.00\n",
      "  8 H      2.15   -1.24    0.00\n",
      "  9 H      0.00   -2.48    0.00\n",
      " 10 H     -2.15   -1.24    0.00\n",
      " 11 H     -2.15    1.24    0.00\n",
      "\n",
      "  # sym    at#    p_x     p_y     p_z\n",
      "-------------------------------------\n",
      "  0  C       6    0.00    1.40    0.00\n",
      "  1  C       6    1.21    0.70    0.00\n",
      "  2  C       6    1.21   -0.70    0.00\n",
      "  3  C       6    0.00   -1.40    0.00\n",
      "  4  C       6   -1.21   -0.70    0.00\n",
      "  5  C       6   -1.21    0.70    0.00\n",
      "  6  H       1    0.00    2.48    0.00\n",
      "  7  H       1    2.15    1.24    0.00\n",
      "  8  H       1    2.15   -1.24    0.00\n",
      "  9  H       1    0.00   -2.48    0.00\n",
      " 10  H       1   -2.15   -1.24    0.00\n",
      " 11  H       1   -2.15    1.24    0.00\n"
     ]
    }
   ],
   "source": [
    "from ase.build import molecule\n",
    "\n",
    "atoms = molecule('C6H6')  # benzene\n",
    "\n",
    "# access properties on each atom\n",
    "print(' #  sym   p_x     p_y     p_z')\n",
    "print('------------------------------')\n",
    "for i, atom in enumerate(atoms):\n",
    "   print('{0:3d}{1:^4s}{2:-8.2f}{3:-8.2f}{4:-8.2f}'.format(i, atom.symbol, atom.x, atom.y, atom.z))\n",
    "\n",
    "# get all properties in arrays\n",
    "sym = atoms.get_chemical_symbols()\n",
    "pos = atoms.get_positions()\n",
    "num = atoms.get_atomic_numbers()\n",
    "atom_indices = range(len(atoms))\n",
    "print('\\n  # sym    at#    p_x     p_y     p_z')\n",
    "print('-------------------------------------')\n",
    "for i, s, n, p in zip(atom_indices, sym, num, pos):\n",
    "    px, py, pz = p\n",
    "    print('{0:3d}{1:>3s}{2:8d}{3:-8.2f}{4:-8.2f}{5:-8.2f}'.format(i, s, n, px, py, pz))"
   ]
  },
  {
   "attachments": {},
   "cell_type": "markdown",
   "metadata": {},
   "source": [
    "### Molecular weight and molecular formula"
   ]
  },
  {
   "cell_type": "code",
   "execution_count": 42,
   "metadata": {},
   "outputs": [
    {
     "name": "stdout",
     "output_type": "stream",
     "text": [
      "The molecular weight of C6H6 is 78.11 gm/mol\n"
     ]
    }
   ],
   "source": [
    "from ase.structure import molecule\n",
    "atoms = molecule('C6H6')\n",
    "masses = atoms.get_masses()\n",
    "molecular_weight = masses.sum()\n",
    "molecular_formula = atoms.get_chemical_formula(mode='reduce')\n",
    "# note use of two lines to keep length of line reasonable\n",
    "s = 'The molecular weight of {0} is {1:1.2f} gm/mol'\n",
    "print(s.format(molecular_formula, molecular_weight))"
   ]
  },
  {
   "attachments": {},
   "cell_type": "markdown",
   "metadata": {},
   "source": [
    "### Center of mass\n",
    "The center of mass (COM) is defined as:\n",
    "\n",
    "$ COM = \\frac {\\sum m_i r_i} {\\sum m_i} $\n",
    "\n",
    "The center of mass is essentially the average position of the atoms, weighted by the mass of each atom."
   ]
  },
  {
   "cell_type": "code",
   "execution_count": 44,
   "metadata": {},
   "outputs": [
    {
     "name": "stdout",
     "output_type": "stream",
     "text": [
      "COM1 = [0.00000000e+00 5.91861899e-08 4.75435401e-02]\n"
     ]
    }
   ],
   "source": [
    "atoms = molecule('NH3')  # ammonia\n",
    "# cartesian coordinates\n",
    "print('COM1 = {0}'.format(atoms.get_center_of_mass()))"
   ]
  }
 ],
 "metadata": {
  "kernelspec": {
   "display_name": "py39ase",
   "language": "python",
   "name": "python3"
  },
  "language_info": {
   "codemirror_mode": {
    "name": "ipython",
    "version": 3
   },
   "file_extension": ".py",
   "mimetype": "text/x-python",
   "name": "python",
   "nbconvert_exporter": "python",
   "pygments_lexer": "ipython3",
   "version": "3.9.16"
  },
  "orig_nbformat": 4,
  "vscode": {
   "interpreter": {
    "hash": "a9fda9cf6b309331fd3b8329393aee4037eac5edef92a842791202cb5b92f9c8"
   }
  }
 },
 "nbformat": 4,
 "nbformat_minor": 2
}
