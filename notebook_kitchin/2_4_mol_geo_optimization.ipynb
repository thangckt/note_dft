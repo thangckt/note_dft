{
 "cells": [
  {
   "attachments": {},
   "cell_type": "markdown",
   "metadata": {},
   "source": [
    "# Geometry optimization"
   ]
  }
 ],
 "metadata": {
  "kernelspec": {
   "display_name": "py310gpaw",
   "language": "python",
   "name": "python3"
  },
  "language_info": {
   "codemirror_mode": {
    "name": "ipython",
    "version": 3
   },
   "file_extension": ".py",
   "mimetype": "text/x-python",
   "name": "python",
   "nbconvert_exporter": "python",
   "pygments_lexer": "ipython3",
   "version": "3.10.8 | packaged by conda-forge | (main, Nov 22 2022, 08:26:04) [GCC 10.4.0]"
  },
  "orig_nbformat": 4,
  "vscode": {
   "interpreter": {
    "hash": "8264a2ff4398fd532945897322f9f2d54e86304d937113db00eaf6278c97de02"
   }
  }
 },
 "nbformat": 4,
 "nbformat_minor": 2
}
