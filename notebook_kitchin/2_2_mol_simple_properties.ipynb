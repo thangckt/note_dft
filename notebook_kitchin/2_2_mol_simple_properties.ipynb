{
 "cells": [
  {
   "attachments": {},
   "cell_type": "markdown",
   "metadata": {},
   "source": [
    "# Simple properties with ASE\n",
    "\n",
    "Simple properties do not require a DFT calculation. They are typically only functions of the atom types and geometries.\n",
    "\n",
    "## Getting cartesian positions\n",
    "\n",
    "for coordinates `ase.Atoms.get_positions` and for fractional coordinates, use `ase.Atoms.get_scaled_positions`"
   ]
  },
  {
   "cell_type": "code",
   "execution_count": 2,
   "metadata": {},
   "outputs": [
    {
     "name": "stdout",
     "output_type": "stream",
     "text": [
      " #  sym   p_x     p_y     p_z\n",
      "------------------------------\n",
      "  0 C      0.00    1.40    0.00\n",
      "  1 C      1.21    0.70    0.00\n",
      "  2 C      1.21   -0.70    0.00\n",
      "  3 C      0.00   -1.40    0.00\n",
      "  4 C     -1.21   -0.70    0.00\n",
      "  5 C     -1.21    0.70    0.00\n",
      "  6 H      0.00    2.48    0.00\n",
      "  7 H      2.15    1.24    0.00\n",
      "  8 H      2.15   -1.24    0.00\n",
      "  9 H      0.00   -2.48    0.00\n",
      " 10 H     -2.15   -1.24    0.00\n",
      " 11 H     -2.15    1.24    0.00\n",
      "\n",
      "  # sym    at#    p_x     p_y     p_z\n",
      "-------------------------------------\n",
      "  0  C       6    0.00    1.40    0.00\n",
      "  1  C       6    1.21    0.70    0.00\n",
      "  2  C       6    1.21   -0.70    0.00\n",
      "  3  C       6    0.00   -1.40    0.00\n",
      "  4  C       6   -1.21   -0.70    0.00\n",
      "  5  C       6   -1.21    0.70    0.00\n",
      "  6  H       1    0.00    2.48    0.00\n",
      "  7  H       1    2.15    1.24    0.00\n",
      "  8  H       1    2.15   -1.24    0.00\n",
      "  9  H       1    0.00   -2.48    0.00\n",
      " 10  H       1   -2.15   -1.24    0.00\n",
      " 11  H       1   -2.15    1.24    0.00\n"
     ]
    }
   ],
   "source": [
    "from ase.build import molecule\n",
    "\n",
    "atoms = molecule('C6H6')  # benzene\n",
    "\n",
    "# access properties on each atom\n",
    "print(' #  sym   p_x     p_y     p_z')\n",
    "print('------------------------------')\n",
    "for i, atom in enumerate(atoms):\n",
    "   print('{0:3d}{1:^4s}{2:-8.2f}{3:-8.2f}{4:-8.2f}'.format(i, atom.symbol, atom.x, atom.y, atom.z))\n",
    "\n",
    "# get all properties in arrays\n",
    "sym = atoms.get_chemical_symbols()\n",
    "pos = atoms.get_positions()\n",
    "num = atoms.get_atomic_numbers()\n",
    "atom_indices = range(len(atoms))\n",
    "print('\\n  # sym    at#    p_x     p_y     p_z')\n",
    "print('-------------------------------------')\n",
    "for i, s, n, p in zip(atom_indices, sym, num, pos):\n",
    "    px, py, pz = p\n",
    "    print('{0:3d}{1:>3s}{2:8d}{3:-8.2f}{4:-8.2f}{5:-8.2f}'.format(i, s, n, px, py, pz))"
   ]
  },
  {
   "attachments": {},
   "cell_type": "markdown",
   "metadata": {},
   "source": [
    "## Molecular weight and molecular formula"
   ]
  },
  {
   "cell_type": "code",
   "execution_count": 4,
   "metadata": {},
   "outputs": [
    {
     "name": "stdout",
     "output_type": "stream",
     "text": [
      "The molecular weight of C6H6 is 78.11 gm/mol\n"
     ]
    }
   ],
   "source": [
    "atoms = molecule('C6H6')\n",
    "masses = atoms.get_masses()\n",
    "molecular_weight = masses.sum()\n",
    "molecular_formula = atoms.get_chemical_formula(mode='reduce')\n",
    "# note use of two lines to keep length of line reasonable\n",
    "s = 'The molecular weight of {0} is {1:1.2f} gm/mol'\n",
    "print(s.format(molecular_formula, molecular_weight))"
   ]
  },
  {
   "attachments": {},
   "cell_type": "markdown",
   "metadata": {},
   "source": [
    "## Center of mass\n",
    "The center of mass (COM) is defined as:\n",
    "\n",
    "$ COM = \\frac {\\sum m_i r_i} {\\sum m_i} $\n",
    "\n",
    "The center of mass is essentially the average position of the atoms, weighted by the mass of each atom."
   ]
  },
  {
   "cell_type": "code",
   "execution_count": 5,
   "metadata": {},
   "outputs": [
    {
     "name": "stdout",
     "output_type": "stream",
     "text": [
      "COM1 = [0.00000000e+00 5.91861899e-08 4.75435401e-02]\n"
     ]
    }
   ],
   "source": [
    "atoms = molecule('NH3')  # ammonia\n",
    "# cartesian coordinates\n",
    "print('COM1 = {0}'.format(atoms.get_center_of_mass()))"
   ]
  },
  {
   "attachments": {},
   "cell_type": "markdown",
   "metadata": {},
   "source": [
    "## Moments of inertia\n",
    "\n",
    "The [moment of inertia](https://en.wikipedia.org/wiki/Moment_of_inertia) is a measure of resistance to changes in rotation. It is defined by $ I = \\sum_{i=1}^N m_i r_i^2 $, where $r_i$ is the distance to an axis of rotation. There are typically three moments of inertia, although some may be zero depending on symmetry, and others may be degenerate. There is a convenient function to get the moments of inertia: `ase.Atoms.get_moments_of_inertia`. Here are several examples of molecules with different types of symmetry."
   ]
  },
  {
   "cell_type": "code",
   "execution_count": 6,
   "metadata": {},
   "outputs": [
    {
     "name": "stdout",
     "output_type": "stream",
     "text": [
      "linear rotors: I = [0 Ia Ia]\n",
      "  CO2 moments of inertia: [ 0.         44.45273132 44.45273132]\n",
      "\n",
      "symmetric rotors (Ia = Ib) < Ic\n",
      "  NH3 moments of inertia: [1.71022353 1.71022474 2.67047664]\n",
      "  C6H6 moments of inertia: [ 88.78025559  88.78027717 177.56053276]\n",
      "\n",
      "symmetric rotors Ia < (Ib = Ic)\n",
      "CH3Cl moments of inertia: [ 3.2039126  37.969823   37.96982492]\n",
      "\n",
      "spherical rotors Ia = Ib = Ic\n",
      "  CH4 moments of inertia: [3.19164619 3.19164619 3.19164619]\n",
      "\n",
      "unsymmetric rotors Ia != Ib != Ic\n",
      "  C3H7Cl moments of inertia: [ 19.41420447 213.18480664 223.1578698 ]\n"
     ]
    }
   ],
   "source": [
    "print('linear rotors: I = [0 Ia Ia]')\n",
    "atoms = molecule('CO2')\n",
    "print('  CO2 moments of inertia: {}'.format(atoms.get_moments_of_inertia()))\n",
    "print('')\n",
    "\n",
    "print('symmetric rotors (Ia = Ib) < Ic')\n",
    "atoms = molecule('NH3')\n",
    "print('  NH3 moments of inertia: {}'.format(atoms.get_moments_of_inertia()))\n",
    "\n",
    "atoms = molecule('C6H6')\n",
    "print('  C6H6 moments of inertia: {}'.format(atoms.get_moments_of_inertia()))\n",
    "print('')\n",
    "\n",
    "print('symmetric rotors Ia < (Ib = Ic)')\n",
    "atoms = molecule('CH3Cl')\n",
    "print('CH3Cl moments of inertia: {}'.format(atoms.get_moments_of_inertia()))\n",
    "print('')\n",
    "\n",
    "print('spherical rotors Ia = Ib = Ic')\n",
    "atoms = molecule('CH4')\n",
    "print('  CH4 moments of inertia: {}'.format(atoms.get_moments_of_inertia()))\n",
    "print('')\n",
    "\n",
    "print('unsymmetric rotors Ia != Ib != Ic')\n",
    "atoms = molecule('C3H7Cl')\n",
    "print('  C3H7Cl moments of inertia: {}'.format(atoms.get_moments_of_inertia()))"
   ]
  },
  {
   "attachments": {},
   "cell_type": "markdown",
   "metadata": {},
   "source": [
    "## Computing bond lengths and angles\n",
    "\n",
    "What is the structure of a molecule? In other words, what are the bond lengths, angles between bonds, and similar properties. \n",
    "\n",
    "The `ase.Atoms` object contains `.get_distance` method to make this easy. To calculate the distance between two atoms, you have to specify their indices, remembering that the index starts at 0."
   ]
  },
  {
   "cell_type": "code",
   "execution_count": 15,
   "metadata": {},
   "outputs": [
    {
     "name": "stdout",
     "output_type": "stream",
     "text": [
      "atom index & symbol\n",
      "===========\n",
      " 0 N  \n",
      " 1 H  \n",
      " 2 H  \n",
      " 3 H  \n"
     ]
    },
    {
     "data": {
      "text/plain": [
       "1.0167932803647945"
      ]
     },
     "execution_count": 15,
     "metadata": {},
     "output_type": "execute_result"
    }
   ],
   "source": [
    "atoms = molecule('NH3')\n",
    "\n",
    "print('atom index & symbol')\n",
    "print('===========')\n",
    "for i, atom in enumerate(atoms):\n",
    "    print('{0:2d} {1:3s}' .format(i, atom.symbol))\n",
    "\n",
    "# N-H bond length\n",
    "atoms.get_distance(0, 3)"
   ]
  },
  {
   "attachments": {},
   "cell_type": "markdown",
   "metadata": {},
   "source": [
    "Bond angles are a little trickier. If we had vectors describing the directions between two atoms, we could use some simple trigonometry to compute the angle between the vectors: $\\vec{a}.\\vec{b} =|\\vec{a}||\\vec{b}|cos(\\phi)$. So we can calculate the angle as $\\phi = arccos( \\frac{\\vec{a}.\\vec{b}} {|\\vec{a}||\\vec{b}|})$, we just have to define our two vectors $\\vec{a}$ and $\\vec{b}$. We compute these vectors as the difference in positions of two atoms. \n",
    "\n",
    "For example, here we compute the angle H-N-H in an ammonia molecule. This is the angle between N-H1 and N-H2. \n",
    "\n",
    "![](http://kitchingroup.cheme.cmu.edu/dft-book/images/NH3-vectors.png)\n",
    "\n",
    "Alternatively you could use `ase.Atoms.get_angle`. Note we want the angle between atoms with indices [1, 0, 2] to get the H-N-H angle."
   ]
  },
  {
   "cell_type": "code",
   "execution_count": 14,
   "metadata": {},
   "outputs": [
    {
     "data": {
      "text/plain": [
       "106.33462423179175"
      ]
     },
     "execution_count": 14,
     "metadata": {},
     "output_type": "execute_result"
    }
   ],
   "source": [
    "atoms = molecule('NH3')\n",
    "\n",
    "atoms.get_angle(1, 0, 2)"
   ]
  },
  {
   "attachments": {},
   "cell_type": "markdown",
   "metadata": {},
   "source": [
    "### Dihedral angles\n",
    "\n",
    "We will compute the dihedral angle between atoms 5, 1, 0, and 4. That is a H-C-C-H dihedral angle\n",
    "\n",
    "![](http://kitchingroup.cheme.cmu.edu/dft-book/images/ethane-dihedral.png)"
   ]
  },
  {
   "cell_type": "code",
   "execution_count": 18,
   "metadata": {},
   "outputs": [
    {
     "name": "stdout",
     "output_type": "stream",
     "text": [
      "atom symbol\n",
      "===========\n",
      " 0 C  \n",
      " 1 C  \n",
      " 2 H  \n",
      " 3 H  \n",
      " 4 H  \n",
      " 5 H  \n",
      " 6 H  \n",
      " 7 H  \n",
      "dihedral angle = 60.00 degrees\n"
     ]
    }
   ],
   "source": [
    "atoms = molecule('C2H6')\n",
    "\n",
    "print('atom symbol')\n",
    "print('===========')\n",
    "for i, atom in enumerate(atoms):\n",
    "  print('{0:2d} {1:3s}'.format(i, atom.symbol))\n",
    "\n",
    "da = atoms.get_dihedral(5, 1, 0, 4) \n",
    "print('dihedral angle = {0:1.2f} degrees'.format(da))"
   ]
  }
 ],
 "metadata": {
  "kernelspec": {
   "display_name": "py310gpaw",
   "language": "python",
   "name": "python3"
  },
  "language_info": {
   "codemirror_mode": {
    "name": "ipython",
    "version": 3
   },
   "file_extension": ".py",
   "mimetype": "text/x-python",
   "name": "python",
   "nbconvert_exporter": "python",
   "pygments_lexer": "ipython3",
   "version": "3.10.8 | packaged by conda-forge | (main, Nov 22 2022, 08:26:04) [GCC 10.4.0]"
  },
  "orig_nbformat": 4,
  "vscode": {
   "interpreter": {
    "hash": "8264a2ff4398fd532945897322f9f2d54e86304d937113db00eaf6278c97de02"
   }
  }
 },
 "nbformat": 4,
 "nbformat_minor": 2
}
