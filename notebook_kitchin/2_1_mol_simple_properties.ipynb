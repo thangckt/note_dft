{
 "cells": [
  {
   "attachments": {},
   "cell_type": "markdown",
   "metadata": {},
   "source": [
    "# Simple properties with ASE\n",
    "\n",
    "### Getting cartesian positions\n",
    "\n",
    "for coordinates `ase.Atoms.get_positions` and for fractional coordinates, use `ase.Atoms.get_scaled_positions`"
   ]
  },
  {
   "cell_type": "code",
   "execution_count": 41,
   "metadata": {},
   "outputs": [
    {
     "name": "stdout",
     "output_type": "stream",
     "text": [
      " #  sym   p_x     p_y     p_z\n",
      "------------------------------\n",
      "  0 C      0.00    1.40    0.00\n",
      "  1 C      1.21    0.70    0.00\n",
      "  2 C      1.21   -0.70    0.00\n",
      "  3 C      0.00   -1.40    0.00\n",
      "  4 C     -1.21   -0.70    0.00\n",
      "  5 C     -1.21    0.70    0.00\n",
      "  6 H      0.00    2.48    0.00\n",
      "  7 H      2.15    1.24    0.00\n",
      "  8 H      2.15   -1.24    0.00\n",
      "  9 H      0.00   -2.48    0.00\n",
      " 10 H     -2.15   -1.24    0.00\n",
      " 11 H     -2.15    1.24    0.00\n",
      "\n",
      "  # sym    at#    p_x     p_y     p_z\n",
      "-------------------------------------\n",
      "  0  C       6    0.00    1.40    0.00\n",
      "  1  C       6    1.21    0.70    0.00\n",
      "  2  C       6    1.21   -0.70    0.00\n",
      "  3  C       6    0.00   -1.40    0.00\n",
      "  4  C       6   -1.21   -0.70    0.00\n",
      "  5  C       6   -1.21    0.70    0.00\n",
      "  6  H       1    0.00    2.48    0.00\n",
      "  7  H       1    2.15    1.24    0.00\n",
      "  8  H       1    2.15   -1.24    0.00\n",
      "  9  H       1    0.00   -2.48    0.00\n",
      " 10  H       1   -2.15   -1.24    0.00\n",
      " 11  H       1   -2.15    1.24    0.00\n"
     ]
    }
   ],
   "source": [
    "from ase.build import molecule\n",
    "\n",
    "atoms = molecule('C6H6')  # benzene\n",
    "\n",
    "# access properties on each atom\n",
    "print(' #  sym   p_x     p_y     p_z')\n",
    "print('------------------------------')\n",
    "for i, atom in enumerate(atoms):\n",
    "   print('{0:3d}{1:^4s}{2:-8.2f}{3:-8.2f}{4:-8.2f}'.format(i, atom.symbol, atom.x, atom.y, atom.z))\n",
    "\n",
    "# get all properties in arrays\n",
    "sym = atoms.get_chemical_symbols()\n",
    "pos = atoms.get_positions()\n",
    "num = atoms.get_atomic_numbers()\n",
    "atom_indices = range(len(atoms))\n",
    "print('\\n  # sym    at#    p_x     p_y     p_z')\n",
    "print('-------------------------------------')\n",
    "for i, s, n, p in zip(atom_indices, sym, num, pos):\n",
    "    px, py, pz = p\n",
    "    print('{0:3d}{1:>3s}{2:8d}{3:-8.2f}{4:-8.2f}{5:-8.2f}'.format(i, s, n, px, py, pz))"
   ]
  },
  {
   "attachments": {},
   "cell_type": "markdown",
   "metadata": {},
   "source": [
    "### Molecular weight and molecular formula"
   ]
  },
  {
   "cell_type": "code",
   "execution_count": 42,
   "metadata": {},
   "outputs": [
    {
     "name": "stdout",
     "output_type": "stream",
     "text": [
      "The molecular weight of C6H6 is 78.11 gm/mol\n"
     ]
    }
   ],
   "source": [
    "from ase.structure import molecule\n",
    "atoms = molecule('C6H6')\n",
    "masses = atoms.get_masses()\n",
    "molecular_weight = masses.sum()\n",
    "molecular_formula = atoms.get_chemical_formula(mode='reduce')\n",
    "# note use of two lines to keep length of line reasonable\n",
    "s = 'The molecular weight of {0} is {1:1.2f} gm/mol'\n",
    "print(s.format(molecular_formula, molecular_weight))"
   ]
  },
  {
   "attachments": {},
   "cell_type": "markdown",
   "metadata": {},
   "source": [
    "### Center of mass\n",
    "The center of mass (COM) is defined as:\n",
    "\n",
    "$ COM = \\frac {\\sum m_i r_i} {\\sum m_i} $\n",
    "\n",
    "The center of mass is essentially the average position of the atoms, weighted by the mass of each atom."
   ]
  },
  {
   "cell_type": "code",
   "execution_count": 44,
   "metadata": {},
   "outputs": [
    {
     "name": "stdout",
     "output_type": "stream",
     "text": [
      "COM1 = [0.00000000e+00 5.91861899e-08 4.75435401e-02]\n"
     ]
    }
   ],
   "source": [
    "atoms = molecule('NH3')  # ammonia\n",
    "# cartesian coordinates\n",
    "print('COM1 = {0}'.format(atoms.get_center_of_mass()))"
   ]
  }
 ],
 "metadata": {
  "kernelspec": {
   "display_name": "py310gpaw",
   "language": "python",
   "name": "python3"
  },
  "language_info": {
   "codemirror_mode": {
    "name": "ipython",
    "version": 3
   },
   "file_extension": ".py",
   "mimetype": "text/x-python",
   "name": "python",
   "nbconvert_exporter": "python",
   "pygments_lexer": "ipython3",
   "version": "3.10.8 | packaged by conda-forge | (main, Nov 22 2022, 08:26:04) [GCC 10.4.0]"
  },
  "orig_nbformat": 4,
  "vscode": {
   "interpreter": {
    "hash": "8264a2ff4398fd532945897322f9f2d54e86304d937113db00eaf6278c97de02"
   }
  }
 },
 "nbformat": 4,
 "nbformat_minor": 2
}
