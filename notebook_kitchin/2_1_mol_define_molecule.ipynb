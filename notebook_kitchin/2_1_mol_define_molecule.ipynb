{
 "cells": [
  {
   "attachments": {},
   "cell_type": "markdown",
   "metadata": {},
   "source": [
    "# Defining and Visualizing molecules\n",
    "\n",
    "This section describe to to model molecule using [ASE](https://wiki.fysik.dtu.dk/ase)\n",
    "\n",
    "For visualization\n",
    "- ASE provide a [Visualize module](https://wiki.fysik.dtu.dk/ase//ase/visualize/visualize.html). Consider to install packages `nglview` may require to visualize in jupyter.\n",
    "- See [Nglview advance usage](https://osscar-docs.readthedocs.io/en/latest/visualizer/nglview_advanced.html)\n",
    "  ```\n",
    "  %pip install git+https://github.com/arose/nglview\n",
    "  ```\n",
    "\n",
    "## From scratch\n",
    "\n",
    "When there is no data file for molecules, we define it by hand"
   ]
  },
  {
   "cell_type": "code",
   "execution_count": 45,
   "metadata": {},
   "outputs": [],
   "source": [
    "# Load modules\n",
    "from ase import Atoms, Atom\n",
    "from ase.visualize import view\n",
    "import numpy as np"
   ]
  },
  {
   "cell_type": "code",
   "execution_count": 42,
   "metadata": {},
   "outputs": [
    {
     "name": "stdout",
     "output_type": "stream",
     "text": [
      "V = 1000 Ang^3\n"
     ]
    },
    {
     "data": {
      "application/vnd.jupyter.widget-view+json": {
       "model_id": "e95a2acd1dac4a95b2e8f9524d00e8cc",
       "version_major": 2,
       "version_minor": 0
      },
      "text/plain": [
       "HBox(children=(NGLWidget(), VBox(children=(Dropdown(description='Show', options=('All', 'C', 'O'), value='All'…"
      ]
     },
     "metadata": {},
     "output_type": "display_data"
    }
   ],
   "source": [
    "# define an Atoms object\n",
    "atoms = Atoms([Atom('C', [0., 0., 0.]),\n",
    "                Atom('O', [1.1, 0., 0.])],\n",
    "                cell=(10, 10, 10))\n",
    "\n",
    "print('V = {0:1.0f} Ang^3'.format(atoms.get_volume()))     \n",
    "\n",
    "# visualize\n",
    "atoms.pbc = True     # to view box\n",
    "view(atoms, viewer='ngl')"
   ]
  },
  {
   "attachments": {},
   "cell_type": "markdown",
   "metadata": {},
   "source": [
    "There are two inconvenient features of the simple cubic cell:\n",
    "1. Since the CO molecule is at the corner, its electron density is spread over the 8 corners of the box, which is not convenient for visualization later (see Visualizing electron density).\n",
    "2. Due to the geometry of the cube, you need fairly large cubes to make sure the electron density of the molecule does not overlap with that of its images. Electron-electron interactions are repulsive, and the overlap makes the energy *increase* significantly.\n",
    "\n",
    "The first problem is easily solved by centering the atoms in the unit cell. The second problem can be solved by using a face-centered cubic lattice, which is the lattice with the closest packing. We show the results of the centering below, where we have guessed values for `b` until the CO molecules are on average 10 Å apart. \n",
    "\n",
    "Note the final volume is only about 715 $\\AA^3$, which is smaller than the cube. This will result in *less computational time* to compute properties."
   ]
  },
  {
   "cell_type": "code",
   "execution_count": 43,
   "metadata": {},
   "outputs": [
    {
     "data": {
      "application/vnd.jupyter.widget-view+json": {
       "model_id": "636853c1a36f4770aee91d15e9d71e1f",
       "version_major": 2,
       "version_minor": 0
      },
      "text/plain": [
       "HBox(children=(NGLWidget(), VBox(children=(Dropdown(description='Show', options=('All', 'C', 'O'), value='All'…"
      ]
     },
     "metadata": {},
     "output_type": "display_data"
    }
   ],
   "source": [
    "## use FCC lattice\n",
    "b = 7.1\n",
    "atoms = Atoms([Atom('C', [0., 0., 0.]),\n",
    "                Atom('O', [1.1, 0., 0.])],\n",
    "                cell=[[b, b, 0.],\n",
    "                [b, 0., b],\n",
    "                [0., b, b]])\n",
    "atoms.center() # translate atoms to center of unit cell\n",
    "\n",
    "atoms.pbc = True\n",
    "view(atoms, viewer='ngl')"
   ]
  },
  {
   "attachments": {},
   "cell_type": "markdown",
   "metadata": {},
   "source": [
    "How do you know the distance to the neighboring image?\n",
    "\n",
    "All we have to do is figure out the length of each lattice vector, because these are what separate the atoms in the images."
   ]
  },
  {
   "cell_type": "code",
   "execution_count": 46,
   "metadata": {},
   "outputs": [
    {
     "name": "stdout",
     "output_type": "stream",
     "text": [
      "|a1| = 10.04 Ang\n",
      "|a2| = 10.04 Ang\n",
      "|a3| = 10.04 Ang\n",
      "V = 716 Ang^3\n"
     ]
    }
   ],
   "source": [
    "# get unit cell vectors and their lengths\n",
    "(a1, a2, a3) = atoms.get_cell()\n",
    "print('|a1| = {0:1.2f} Ang'.format(np.sum(a1**2)**0.5))\n",
    "print('|a2| = {0:1.2f} Ang'.format(np.linalg.norm(a2)))\n",
    "print('|a3| = {0:1.2f} Ang'.format(np.sum(a3**2)**0.5))\n",
    "\n",
    "print('V = {0:1.0f} Ang^3'.format(atoms.get_volume()))    "
   ]
  },
  {
   "attachments": {},
   "cell_type": "markdown",
   "metadata": {},
   "source": [
    "### Reading other data formats\n",
    "\n",
    "[`ase.io`](https://wiki.fysik.dtu.dk/ase/ase/io/io.html) supports many different file formats.\n",
    "\n",
    "Note that the XYZ format does not have unit cell information in it, so you will have to figure out a way to provide it."
   ]
  },
  {
   "cell_type": "code",
   "execution_count": 51,
   "metadata": {},
   "outputs": [
    {
     "data": {
      "application/vnd.jupyter.widget-view+json": {
       "model_id": "aab7b4fa710745abb27d7b4a134f8edd",
       "version_major": 2,
       "version_minor": 0
      },
      "text/plain": [
       "HBox(children=(NGLWidget(), VBox(children=(Dropdown(description='Show', options=('All', 'C', 'H'), value='All'…"
      ]
     },
     "metadata": {},
     "output_type": "display_data"
    }
   ],
   "source": [
    "from ase.io import read, write\n",
    "\n",
    "atoms = read('molecules/isobutane.xyz')\n",
    "atoms.center(vacuum=5)\n",
    "\n",
    "atoms.pbc = True\n",
    "view(atoms, viewer='ngl')"
   ]
  },
  {
   "attachments": {},
   "cell_type": "markdown",
   "metadata": {},
   "source": [
    "### ASE's Predefined molecules\n",
    "\n",
    "[`ase.data`]() contains a broad set of atoms\n",
    "and molecules for which good experimental data exists, making them useful for benchmarking studies"
   ]
  },
  {
   "cell_type": "code",
   "execution_count": 52,
   "metadata": {},
   "outputs": [
    {
     "data": {
      "text/plain": [
       "dict_keys(['Be', 'BeH', 'C', 'C2H2', 'C2H4', 'C2H6', 'CH', 'CH2_s1A1d', 'CH2_s3B1d', 'CH3', 'CH3Cl', 'CH3OH', 'CH3SH', 'CH4', 'CN', 'CO', 'CO2', 'CS', 'Cl', 'Cl2', 'ClF', 'ClO', 'F', 'F2', 'H', 'H2CO', 'H2O', 'H2O2', 'HCN', 'HCO', 'HCl', 'HF', 'HOCl', 'Li', 'Li2', 'LiF', 'LiH', 'N', 'N2', 'N2H4', 'NH', 'NH2', 'NH3', 'NO', 'Na', 'Na2', 'NaCl', 'O', 'O2', 'OH', 'P', 'P2', 'PH2', 'PH3', 'S', 'S2', 'SH2', 'SO', 'SO2', 'Si', 'Si2', 'Si2H6', 'SiH2_s1A1d', 'SiH2_s3B1d', 'SiH3', 'SiH4', 'SiO', '2-butyne', 'Al', 'AlCl3', 'AlF3', 'B', 'BCl3', 'BF3', 'C2Cl4', 'C2F4', 'C2H3', 'C2H5', 'C2H6CHOH', 'C2H6NH', 'C2H6SO', 'C3H4_C2v', 'C3H4_C3v', 'C3H4_D2d', 'C3H6_Cs', 'C3H6_D3h', 'C3H7', 'C3H7Cl', 'C3H8', 'C3H9C', 'C3H9N', 'C4H4NH', 'C4H4O', 'C4H4S', 'C5H5N', 'C5H8', 'C6H6', 'CCH', 'CCl4', 'CF3CN', 'CF4', 'CH2NHCH2', 'CH2OCH2', 'CH2SCH2', 'CH3CH2Cl', 'CH3CH2NH2', 'CH3CH2O', 'CH3CH2OCH3', 'CH3CH2OH', 'CH3CH2SH', 'CH3CHO', 'CH3CN', 'CH3CO', 'CH3COCH3', 'CH3COCl', 'CH3COF', 'CH3CONH2', 'CH3COOH', 'CH3NO2', 'CH3O', 'CH3OCH3', 'CH3ONO', 'CH3S', 'CH3SCH3', 'CH3SiH3', 'COF2', 'CS2', 'ClF3', 'ClNO', 'F2O', 'H2', 'H2CCHCN', 'H2CCHCl', 'H2CCHF', 'H2CCO', 'H2CCl2', 'H2CF2', 'H2COH', 'H3CNH2', 'HCCl3', 'HCF3', 'HCOOCH3', 'HCOOH', 'N2O', 'NCCN', 'NF3', 'NO2', 'O3', 'OCHCHO', 'OCS', 'PF3', 'SH', 'SiCl4', 'SiF4', 'bicyclobutane', 'butadiene', 'cyclobutane', 'cyclobutene', 'isobutane', 'isobutene', 'methylenecyclopropane', 'trans-butane'])"
      ]
     },
     "execution_count": 52,
     "metadata": {},
     "output_type": "execute_result"
    }
   ],
   "source": [
    "from ase.data import g2\n",
    "keys = g2.data.keys()\n",
    "keys"
   ]
  },
  {
   "cell_type": "code",
   "execution_count": 56,
   "metadata": {},
   "outputs": [
    {
     "data": {
      "application/vnd.jupyter.widget-view+json": {
       "model_id": "693a7429d0e742a79929e96795727988",
       "version_major": 2,
       "version_minor": 0
      },
      "text/plain": [
       "HBox(children=(NGLWidget(), VBox(children=(Dropdown(description='Show', options=('All', 'C', 'H', 'N'), value=…"
      ]
     },
     "metadata": {},
     "output_type": "display_data"
    }
   ],
   "source": [
    "from ase.build import molecule\n",
    "\n",
    "atoms = molecule('CH3CN')\n",
    "\n",
    "atoms.center(vacuum=3)\n",
    "atoms.pbc = True\n",
    "view(atoms, viewer='ngl')"
   ]
  },
  {
   "attachments": {},
   "cell_type": "markdown",
   "metadata": {},
   "source": [
    "### Combine Atoms objects\n"
   ]
  },
  {
   "cell_type": "code",
   "execution_count": 58,
   "metadata": {},
   "outputs": [
    {
     "data": {
      "application/vnd.jupyter.widget-view+json": {
       "model_id": "a502f7d606ee4ae8ae3e465809fb04aa",
       "version_major": 2,
       "version_minor": 0
      },
      "text/plain": [
       "HBox(children=(NGLWidget(), VBox(children=(Dropdown(description='Show', options=('All', 'O', 'H', 'N'), value=…"
      ]
     },
     "metadata": {},
     "output_type": "display_data"
    }
   ],
   "source": [
    "from ase.build import molecule\n",
    "\n",
    "atoms1 = molecule('NH3')\n",
    "atoms2 = molecule('O2')\n",
    "atoms2.translate([3, 0, 0])\n",
    "\n",
    "atoms = atoms1 + atoms2\n",
    "\n",
    "# atoms.pbc = True\n",
    "view(atoms, viewer='ngl')"
   ]
  }
 ],
 "metadata": {
  "kernelspec": {
   "display_name": "py310gpaw",
   "language": "python",
   "name": "python3"
  },
  "language_info": {
   "codemirror_mode": {
    "name": "ipython",
    "version": 3
   },
   "file_extension": ".py",
   "mimetype": "text/x-python",
   "name": "python",
   "nbconvert_exporter": "python",
   "pygments_lexer": "ipython3",
   "version": "3.10.8"
  },
  "orig_nbformat": 4,
  "vscode": {
   "interpreter": {
    "hash": "8264a2ff4398fd532945897322f9f2d54e86304d937113db00eaf6278c97de02"
   }
  }
 },
 "nbformat": 4,
 "nbformat_minor": 2
}
