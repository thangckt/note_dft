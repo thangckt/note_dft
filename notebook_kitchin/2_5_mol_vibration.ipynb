{
 "cells": [
  {
   "attachments": {},
   "cell_type": "markdown",
   "metadata": {},
   "source": [
    "# Vibrational frequencies\n",
    "\n",
    "## Manual calculation of vibrational frequency\n",
    "\n",
    "The principle idea in calculating vibrational frequencies is that we consider a **molecular** system as ****masses** connected by **springs**. If the springs are Hookean, e.g. the force is proportional to the displacement, then we can readily solve the equations of motion and find that the *vibrational frequencies* are related to the *force constants* and the *masses of the atoms*. \n",
    "\n",
    "For example, in a simple molecule like CO where there is only one spring, the frequency is:\n",
    "\n",
    "$\\nu = \\frac{1}{2\\pi} \\sqrt{k/\\mu}$ where $\\frac{1}{\\mu} = \\frac{1}{m_C} + \\frac{1}{m_O}$ and $k$ in the spring constant.\n",
    "\n",
    "We will compute the value of $k$ from DFT calculations as follows $k = \\frac{\\partial^2 E}{\\partial x^2}$ at the equilibrium bond length. We actually already have the data to do this from [Manual determination of a bond length](./2_4_mol_geo_optimization.ipynb#manual-determination-of-a-bond-length). We only need to fit an equation to the energy vs. bond-length data, find the minimum energy bond-length, and then evaluate the second derivative of the fitted function at the minimum. \n",
    "\n",
    "We will use a cubic polynomial for demonstration here. Polynomials are numerically convenient because they are easy to fit, and it is trivial to get the roots and derivatives of the polynomials, as well as to evaluate them at other points using `numpy.polyfit`, `numpy.polyder`, and `numpy.polyval`."
   ]
  },
  {
   "cell_type": "code",
   "execution_count": null,
   "metadata": {},
   "outputs": [],
   "source": [
    "# Vibrational frequencies"
   ]
  }
 ],
 "metadata": {
  "language_info": {
   "name": "python"
  },
  "orig_nbformat": 4
 },
 "nbformat": 4,
 "nbformat_minor": 2
}
