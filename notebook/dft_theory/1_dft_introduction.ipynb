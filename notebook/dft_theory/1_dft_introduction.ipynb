{
  "cells": [
    {
      "cell_type": "markdown",
      "metadata": {
        "id": "view-in-github",
        "colab_type": "text"
      },
      "source": [
        "<a href=\"https://colab.research.google.com/github/thangckt/note_dft/blob/main/notebook/dft_theory/1_dft_introduction.ipynb\" target=\"_parent\"><img src=\"https://colab.research.google.com/assets/colab-badge.svg\" alt=\"Open In Colab\"/></a>"
      ]
    },
    {
      "cell_type": "markdown",
      "metadata": {
        "id": "evCbC5HgM3mH"
      },
      "source": [
        "# Density Functional Theory (DFT)\n",
        "\n",
        "(see a short version for the application perspective [here](1_dft_short.ipynb))\n",
        "\n",
        "## Background\n",
        "\n",
        "A full quantum-mechanical treatment of a material requires the calculation of the system's many-nuclei, many-electron wave functions. *(Schrödinger’s wave function, 1926)* [1,5]\n",
        "\n",
        "However, masses of the nuclei are much larger than masses of electrons, then the wave functions of atomic nuclei and electrons in a molecule can be treated separately (nuclei motion can be decoupled from electrons motions - the coordinates of the nuclei in a system are approximated as fixed, while the coordinates of the electrons are dynamic; and they may be treated as classical point-like particles *(the Born-Oppenheimer approximation, 1927)*). \n",
        "\n",
        "So, with **Born-Oppenheimer approximation/separation**, we ignore motions of nuclei and solve the Schrödinger equation for the electrons only *(called the electronic Schrödinger equation)*. The solution of the Schrödinger equation for the electrons is called the **electronic ground state** of the system. \n",
        "\n",
        "However, the electronic Schrödinger equation is impossible (so far) to solve exactly for a system with many electrons ($N_{atoms} \\times N_{electrons}$).\n",
        "\n",
        "Then, DFT provides a way to solve the electronic Schrödinger equation approximately, by replacing the many-electron wave function with a single [Slater determinant](https://en.wikipedia.org/wiki/Slater_determinant) that depends on the electron density. The electron density is a function of the spatial coordinates of the electrons, and is a simpler function to work with than the many-electron wave function.\n",
        "\n",
        "The underlying principle of DFT is that the ground state total energy of a system of interacting electrons is a unique functional of the electron density *(Hohenberg and Kohn, 1964)*. However, the precise functional dependence of the energy on the density is not known. Later, *(Kohn & Sham, 1965)* transformed this DFT problem of computing the ground state energy and particle density of an N-electron system into that of solving a set of independent-particle equations. These **Koohn-Sham equations** contain a contribution from the quantum-mechanical exchange and correlation of the particles. No expression for this *exchange-correlation* (XC) potential is known. This XC is central to the success of DFT.\n",
        "\n",
        "**Finding XC approximation is an ongoing challenge in DFT.**\n"
      ]
    },
    {
      "cell_type": "markdown",
      "metadata": {
        "id": "Mb3NONcYFWbv"
      },
      "source": [
        "### XC approximation\n",
        "- Local Density Approximation (LDA): is the first approximation for the XC functional. It assumes that the XC energy density at a point depends only on the electron density at that point. It is exact for a uniform electron gas, and is anticipated to be a reasonable approximation for slowly varying densities. In molecules and solids, however, the density tends to vary substantially in space.\n",
        "- Generalized-Gradient Approximations (GGAs): extensions to the LDA includes corrections for gradients in the electron density\n",
        "  - PW91: Perdew and Wang (1991)\n",
        "  - PBE: Perdew, Burke, and Ernzerhof (1996)\n",
        "  - RPBE: Hammer, Hansen, and Nørskov (1999)\n",
        "- Beyond GGA: meta-GGA, hybrid functionals, etc."
      ]
    },
    {
      "cell_type": "markdown",
      "metadata": {
        "id": "YExW1nAxFWbw"
      },
      "source": [
        "### Basis sets\n",
        "Once an exchange-correlation potential has been chosen, what remains is the choice of basis for the single-particle wave functions. The choice of basis set is often dictated by the type of system being studied.\n",
        "\n",
        "In a periodic solid, the wave function can be expressed as a periodic Bloch function multiplied by a complex phase factor, whose wavevector is drawn from the first Brillouin zone of the reciprocal lattice. Integrals over the Brillouin zone are approximated numerically, with Bloch functions sampled on a discrete mesh of wavevectors often referred to as k-points. \n",
        "\n",
        "It is convenient to represent the Bloch functions as an expansion in terms of some set of mathematical *basis functions*. Several basis sets have been developed for use in periodic solid-state calculations, including plane-waves, augmented plane-waves, muffin-tin orbitals, numerical and mixed basis sets, and a variant of the Gaussian.\n",
        "\n",
        "**plane-wave basis sets** are the most common choice for periodic solids. They are simple to implement, and have the advantage that the kinetic energy operator is diagonal in the basis set. However, they are not well suited to describing localized states, and so are not well suited to describing defects in solids.\n",
        "\n",
        "In aperiodic systems, such as systems with even one defect, or randomly ordered alloys, there is no periodic unit cell. Instead one must represent the portion of the system of interest in a supercell, which is then subjected to the periodic boundary conditions so that a planewave basis set can be used. It then becomes necessary to ensure the supercell is large enough to avoid interactions between the\n",
        "defects in neighboring supercells. [1]\n",
        "\n",
        "(The most common choices are plane waves and Gaussian basis sets.  For example, plane waves are often used for periodic systems, while Gaussian basis sets are often used for molecules.? check this)"
      ]
    },
    {
      "cell_type": "markdown",
      "metadata": {
        "id": "wJY4SF2MFWbw"
      },
      "source": [
        "### Pseudopotentials\n",
        "The core electrons of an atom are computationally expensive with planewave basis sets because they are highly localized. This means that a very large number of planewaves are required to expand their wave functions. Furthermore, the contributions of the core electrons to bonding compared to those of the valence electrons is usually negligible. In fact, the primary role of the core electron wave functions is to ensure proper orthogonality between the valence electrons and core states\n",
        "\n",
        "Then,  it is desirable to *replace* the atomic potential due to the core electrons with a **pseudopotential** that has the same effect on the valence electrons. There are  two kinds of pseudopotentials: \n",
        "- norm-conserving soft pseudopotentials \n",
        "- Vanderbilt ultrasoft pseudopotentials\n",
        "\n",
        "PAW (Projector Augmented Wave): is based on the idea of \"augmenting\" the all-electron wave functions with additional \"projectors\" that account for the core electrons that are not explicitly included in the calculation. The PAW potentials are designed to mimic the behavior of the core electrons, allowing for a more accurate description of the electronic structure and properties of the material being studied. (VASP provides a database of PAW potential)\n",
        "\n",
        "GPAW [(Grid-based Projector Augmented Wave)](https://wiki.fysik.dtu.dk/gpaw/) is an open-source software package for performing density functional theory (DFT) calculations. It is built on top of the PAW (Projector Augmented Wave) method.\n",
        "\n",
        "\n",
        "REFERENCE: \n",
        "- [1] http://kitchingroup.cheme.cmu.edu/dft-book/dft.pdf\n",
        "- [2] https://beta.compmatphys.org/topics/a-dft-teaser/\n",
        "- [3] [Hasnip_2014_Density functional theory in the solid state](https://doi.org/10.1098/rsta.2013.0270)\n",
        "- [4] [The ABC of DFT](https://dft.uci.edu/doc/g1.pdf)\n",
        "- [5] [lecture](https://simons.hec.utah.edu/school/Materials/Simons/Simons.pdf)"
      ]
    },
    {
      "cell_type": "markdown",
      "metadata": {
        "id": "6sB3tcTtFWbx"
      },
      "source": [
        "## Practice perspective\n",
        "\n",
        "DFT calculation is based on the Kohn-Sham (KS) [equations](http://kitchingroup.cheme.cmu.edu/dft-book/dft.pdf), which can be solved numerically if we know the *the exchange-correlation energy functional*. However, the exact form of the exchange-correlation energy functional is not known, thus *approximations* for this functional must be used.\n",
        "\n",
        "In summary, follow these steps to perform a DFT calculation:\n",
        "- Choose an exchange-correlation functional\n",
        "  - LDA\n",
        "  - GGA: PW91, PBE, RPBE\n",
        "- Choose a basis set\n",
        "  - Plane waves basis set for non-defect periodic systems\n",
        "  - Gaussian basis sets for molecules\n",
        "- Choose a pseudopotential \n",
        "  - norm-conserving soft pseudopotentials\n",
        "  - Vanderbilt ultrasoft pseudopotentials\n",
        "  - PAW (Projector Augmented Wave)\n",
        "- Choose a k-point mesh\n",
        "- Choose a cutoff energy\n",
        "- Choose a convergence criterion"
      ]
    },
    {
      "cell_type": "markdown",
      "metadata": {
        "id": "R8Id-TtkFWbx"
      },
      "source": [
        "## Fermi Temperature and band occupation numbers\n",
        "\n",
        "At absolute zero, the occupancies of the bands of a system are well-defined step functions, in which\n",
        "- all bands up to the Fermi level are occupied\n",
        "- all bands above the Fermi level are unoccupied. \n",
        "[Read about Fermi level](https://byjus.com/physics/fermi-energy/)\n",
        "\n",
        "There is a particular difficulty in the calculation of the electronic structures of metals compared to semiconductors\n",
        "and molecules. \n",
        "- In molecules and semiconductors, there is a *clear energy gap* between the occupied states and unoccupied states. Thus, the occupancies are insensitive to changes in the energy that occurs during the self-consistency cycles. \n",
        "- In metals, however, the density of states is continuous at the Fermi level, and there are typically a substantial number of states that are close in energy to the Fermi level. Consequently, small changes in the energy can dramatically change the occupation numbers, resulting in instabilities that make it difficult to converge to the occupation step function. A related problem is that the Brillouin zone integral (which in practice is performed as a sum over a finite number of k points) that defines the band energy converges very slowly with the number of k points due to the discontinuity\n",
        "in occupancies in a continuous distribution of states for metals. \n",
        "\n",
        "The difficulty arises because the temperature in most DFT calculations is at absolute zero. At higher temperatures, the DOS is smeared across the Fermi level, resulting in a continuous occupation function over the distribution of states. A\n",
        "finite-temperature version of DFT was developed, which is the foundation on which one solution to this problem is based. In this solution, the step function is replaced by a smoothly varying function such as the Fermi-Dirac function at a small, but non-zero temperature. The total energy is then extrapolated back to absolute zero."
      ]
    },
    {
      "cell_type": "markdown",
      "metadata": {
        "id": "oqPmBpErM3mM"
      },
      "source": [
        "## Some terminologies\n",
        "\n",
        "**Orbital** refers to the path or trajectory that an object in space follows around another object. The term can also refer to the region of space around an object where other objects are to be found. E.g., satellites are fly around the planet.\n",
        "\n",
        "In the context of chemistry and physics, an electron orbital refers to the region of space around an atom where an electron is most likely to be found."
      ]
    },
    {
      "cell_type": "code",
      "execution_count": null,
      "metadata": {
        "id": "k3KiEPYIM3mN"
      },
      "outputs": [],
      "source": [
        "\n",
        "\n"
      ]
    }
  ],
  "metadata": {
    "colab": {
      "provenance": [],
      "include_colab_link": true
    },
    "kernelspec": {
      "display_name": "base",
      "language": "python",
      "name": "python3"
    },
    "language_info": {
      "name": "python",
      "version": "3.11.0 | packaged by conda-forge | (main, Oct 25 2022, 06:12:32) [MSC v.1929 64 bit (AMD64)]"
    },
    "orig_nbformat": 4,
    "vscode": {
      "interpreter": {
        "hash": "2b6e7cfdce5ef245d32482b7f80393907c6182a3f3a40203474e09cb3d62b454"
      }
    }
  },
  "nbformat": 4,
  "nbformat_minor": 0
}