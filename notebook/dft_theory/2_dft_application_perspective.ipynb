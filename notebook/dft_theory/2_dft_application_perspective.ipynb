{
  "cells": [
    {
      "attachments": {},
      "cell_type": "markdown",
      "metadata": {
        "colab_type": "text",
        "id": "view-in-github"
      },
      "source": [
        "<a href=\"https://colab.research.google.com/github/thangckt/note_dft/blob/main/notebook/0_1_dft_intro.ipynb\" target=\"_parent\"><img src=\"https://colab.research.google.com/assets/colab-badge.svg\" alt=\"Open In Colab\"/></a>"
      ]
    },
    {
      "attachments": {},
      "cell_type": "markdown",
      "metadata": {
        "id": "iwrKfbVUM3mL"
      },
      "source": [
        "## Fermi Temperature and band occupation numbers\n",
        "\n",
        "At absolute zero, the occupancies of the bands of a system are well-defined step functions, in which\n",
        "- all bands up to the Fermi level are occupied\n",
        "- all bands above the Fermi level are unoccupied. \n",
        "[Read about Fermi level](https://byjus.com/physics/fermi-energy/)\n",
        "\n",
        "There is a particular difficulty in the calculation of the electronic structures of metals compared to semiconductors\n",
        "and molecules. \n",
        "- In molecules and semiconductors, there is a *clear energy gap* between the occupied states and unoccupied states. Thus, the occupancies are insensitive to changes in the energy that occurs during the self-consistency cycles. \n",
        "- In metals, however, the density of states is continuous at the Fermi level, and there are typically a substantial number of states that are close in energy to the Fermi level. Consequently, small changes in the energy can dramatically change the occupation numbers, resulting in instabilities that make it difficult to converge to the occupation step function. A related problem is that the Brillouin zone integral (which in practice is performed as a sum over a finite number of k points) that defines the band energy converges very slowly with the number of k points due to the discontinuity\n",
        "in occupancies in a continuous distribution of states for metals. \n",
        "\n",
        "The difficulty arises because the temperature in most DFT calculations is at absolute zero. At higher temperatures, the DOS is smeared across the Fermi level, resulting in a continuous occupation function over the distribution of states. A\n",
        "finite-temperature version of DFT was developed, which is the foundation on which one solution to this problem is based. In this solution, the step function is replaced by a smoothly varying function such as the Fermi-Dirac function at a small, but non-zero temperature. The total energy is then extrapolated back to absolute zero.\n",
        "\n",
        "REFERENCE: \n",
        "- [1] http://kitchingroup.cheme.cmu.edu/dft-book/dft.pdf\n",
        "- [2] https://beta.compmatphys.org/topics/a-dft-teaser/\n",
        "- [3] [Hasnip_2014_Density functional theory in the solid state](https://doi.org/10.1098/rsta.2013.0270)"
      ]
    },
    {
      "attachments": {},
      "cell_type": "markdown",
      "metadata": {
        "id": "oqPmBpErM3mM"
      },
      "source": [
        "## Some terminologies\n",
        "\n",
        "**Orbital** refers to the path or trajectory that an object in space follows around another object. The term can also refer to the region of space around an object where other objects are to be found. E.g., satellites are fly around the planet.\n",
        "\n",
        "In the context of chemistry and physics, an electron orbital refers to the region of space around an atom where an electron is most likely to be found."
      ]
    },
    {
      "cell_type": "code",
      "execution_count": null,
      "metadata": {
        "id": "k3KiEPYIM3mN"
      },
      "outputs": [],
      "source": [
        "\n",
        "\n"
      ]
    }
  ],
  "metadata": {
    "colab": {
      "include_colab_link": true,
      "provenance": []
    },
    "kernelspec": {
      "display_name": "base",
      "language": "python",
      "name": "python3"
    },
    "language_info": {
      "name": "python",
      "version": "3.11.0 | packaged by conda-forge | (main, Oct 25 2022, 06:12:32) [MSC v.1929 64 bit (AMD64)]"
    },
    "orig_nbformat": 4,
    "vscode": {
      "interpreter": {
        "hash": "2b6e7cfdce5ef245d32482b7f80393907c6182a3f3a40203474e09cb3d62b454"
      }
    }
  },
  "nbformat": 4,
  "nbformat_minor": 0
}
