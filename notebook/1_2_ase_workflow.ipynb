{
 "cells": [
  {
   "attachments": {},
   "cell_type": "markdown",
   "metadata": {},
   "source": [
    "# ASE workflow\n",
    "\n",
    "ASE allows atomistic calculations to be scripted with different computational codes. To perform a calculation in ASE, we have to\n",
    "- Define an `ase.Atoms` object, which contains atomic positions and simulation cell (atom, molecule, bulk)\n",
    "- Define a calculator and attach it to `ase.Atoms` object.\n",
    "- The calculation is triggered when methods of `ase.Atoms` is called. E.g., `atoms.get_force()`, `atoms.get_pot_energy()`\n",
    "\n",
    "The parameters for calculation are set in **calculator**. Each calculator has its parameters."
   ]
  },
  {
   "cell_type": "code",
   "execution_count": null,
   "metadata": {},
   "outputs": [],
   "source": [
    "from ase import Atoms\n",
    "from ase.calculators.emt import EMT\n",
    "\n",
    "atoms = Atoms(...)  # define Atoms object\n",
    "calc = EMT(...)     # define calculator\n",
    "atoms.calc = calc   # attach calculator to atoms obj\n",
    "\n",
    "atoms.get_potential_energy()   # strigger calculation"
   ]
  },
  {
   "attachments": {},
   "cell_type": "markdown",
   "metadata": {},
   "source": [
    "## Define things\n",
    "\n",
    "All modules in ASE are available [here](https://wiki.fysik.dtu.dk/ase/ase/ase)\n",
    "\n",
    "### The Atoms object\n",
    "\n",
    "The `Atoms` object can be created in several ways\n",
    "- Build from scratch with [`ase.Atoms`](https://wiki.fysik.dtu.dk/ase/ase/atoms.html#)\n",
    "- Use predefined object in [`ase.build'](https://wiki.fysik.dtu.dk/ase/ase/build/build.html#module-ase.build): `molecule`, 'bulk', `surface',...\n",
    "- The `ase.lattice` module. The module contains functions for creating most common crystal structures with arbitrary orientation. The user can specify the desired Miller index along the three axes of the simulation, and the smallest periodic structure fulfilling this specification is created. Both bulk crystals and surfaces can be created.\n",
    "- The `ase.cluster` module. Useful for creating nanoparticles and clusters.\n",
    "- Read from data files, in other formats with ['ase.io'](https://wiki.fysik.dtu.dk/ase/ase/io/io): .CIG, ... that can get from open database, such as [Crystallography Open Database](http://www.crystallography.net/cod/), [Material Project](https://materialsproject.org/)\n",
    "```note \n",
    "The XYZ format does not have unit cell information in it, so you will have to figure out a way to provide it.\n",
    "`atoms.center(vacuum=5)` in `ase` is a qick for that\n",
    "```\n",
    "\n",
    "### Calculators\n",
    "\n",
    "For ASE, a calculator is a black box that can take atomic numbers and atomic positions from an Atoms object and calculate the energy and forces and sometimes also stresses.\n",
    "\n",
    "All [supported calculators](https://wiki.fysik.dtu.dk/ase/ase/calculators/calculators) can be divided into four groups:\n",
    "1. Have their own ative or external ASE interfaces: GPAW, BigDFT, DeePMD-kit,...\n",
    "2. Have Python wrappers in the ASE, but the actual FORTRAN/C/C++ codes are not part of ASE: LAMMPS, VASP, PLUMED...\n",
    "3. Pure python implementations included in the ASE package: EMT, EAM, Lennard-Jones, Morse and HarmonicCalculator.\n",
    "4. Calculators that wrap others\n"
   ]
  },
  {
   "attachments": {},
   "cell_type": "markdown",
   "metadata": {},
   "source": [
    "## Visualize\n",
    "\n",
    "For visualization\n",
    "- ASE provide a [Visualize module](https://wiki.fysik.dtu.dk/ase//ase/visualize/visualize.html). Consider to install packages `nglview` may require to visualize in jupyter.\n",
    "- See [Nglview advance usage](https://osscar-docs.readthedocs.io/en/latest/visualizer/nglview_advanced.html)\n",
    "  ```\n",
    "  %pip install git+https://github.com/arose/nglview\n",
    "  ```"
   ]
  },
  {
   "cell_type": "code",
   "execution_count": 1,
   "metadata": {},
   "outputs": [
    {
     "ename": "ImportError",
     "evalue": "The `scipy` install you are using seems to be broken, (extension modules cannot be imported), please try reinstalling.",
     "output_type": "error",
     "traceback": [
      "\u001b[1;31m---------------------------------------------------------------------------\u001b[0m",
      "\u001b[1;31mImportError\u001b[0m                               Traceback (most recent call last)",
      "File \u001b[1;32mc:\\DevProgram\\miniconda3\\Lib\\site-packages\\scipy\\__init__.py:188\u001b[0m\n\u001b[0;32m    187\u001b[0m \u001b[39mtry\u001b[39;00m:\n\u001b[1;32m--> 188\u001b[0m     \u001b[39mfrom\u001b[39;00m \u001b[39mscipy\u001b[39;00m\u001b[39m.\u001b[39;00m\u001b[39m_lib\u001b[39;00m\u001b[39m.\u001b[39;00m\u001b[39m_ccallback\u001b[39;00m \u001b[39mimport\u001b[39;00m LowLevelCallable\n\u001b[0;32m    189\u001b[0m \u001b[39mexcept\u001b[39;00m \u001b[39mImportError\u001b[39;00m \u001b[39mas\u001b[39;00m e:\n",
      "File \u001b[1;32mc:\\DevProgram\\miniconda3\\Lib\\site-packages\\scipy\\_lib\\_ccallback.py:1\u001b[0m\n\u001b[1;32m----> 1\u001b[0m \u001b[39mfrom\u001b[39;00m \u001b[39m.\u001b[39;00m \u001b[39mimport\u001b[39;00m _ccallback_c\n\u001b[0;32m      3\u001b[0m \u001b[39mimport\u001b[39;00m \u001b[39mctypes\u001b[39;00m\n",
      "\u001b[1;31mImportError\u001b[0m: cannot import name '_ccallback_c' from 'scipy._lib' (c:\\DevProgram\\miniconda3\\Lib\\site-packages\\scipy\\_lib\\__init__.py)",
      "\nThe above exception was the direct cause of the following exception:\n",
      "\u001b[1;31mImportError\u001b[0m                               Traceback (most recent call last)",
      "Cell \u001b[1;32mIn[1], line 2\u001b[0m\n\u001b[0;32m      1\u001b[0m \u001b[39mfrom\u001b[39;00m \u001b[39mase\u001b[39;00m \u001b[39mimport\u001b[39;00m Atoms, Atom\n\u001b[1;32m----> 2\u001b[0m \u001b[39mfrom\u001b[39;00m \u001b[39mase\u001b[39;00m\u001b[39m.\u001b[39;00m\u001b[39mvisualize\u001b[39;00m \u001b[39mimport\u001b[39;00m view\n\u001b[0;32m      4\u001b[0m atoms \u001b[39m=\u001b[39m Atoms([Atom(\u001b[39m'\u001b[39m\u001b[39mC\u001b[39m\u001b[39m'\u001b[39m, [\u001b[39m0.\u001b[39m, \u001b[39m0.\u001b[39m, \u001b[39m0.\u001b[39m]),\n\u001b[0;32m      5\u001b[0m                 Atom(\u001b[39m'\u001b[39m\u001b[39mO\u001b[39m\u001b[39m'\u001b[39m, [\u001b[39m1.1\u001b[39m, \u001b[39m0.\u001b[39m, \u001b[39m0.\u001b[39m])],\n\u001b[0;32m      6\u001b[0m                 cell\u001b[39m=\u001b[39m(\u001b[39m10\u001b[39m, \u001b[39m10\u001b[39m, \u001b[39m10\u001b[39m))\n\u001b[0;32m      8\u001b[0m \u001b[39m# visualize\u001b[39;00m\n",
      "File \u001b[1;32mc:\\DevProgram\\miniconda3\\Lib\\site-packages\\ase\\visualize\\__init__.py:2\u001b[0m\n\u001b[0;32m      1\u001b[0m \u001b[39mimport\u001b[39;00m \u001b[39mase\u001b[39;00m\u001b[39m.\u001b[39;00m\u001b[39mparallel\u001b[39;00m \u001b[39mas\u001b[39;00m \u001b[39mparallel\u001b[39;00m\n\u001b[1;32m----> 2\u001b[0m \u001b[39mfrom\u001b[39;00m \u001b[39mase\u001b[39;00m\u001b[39m.\u001b[39;00m\u001b[39mvisualize\u001b[39;00m\u001b[39m.\u001b[39;00m\u001b[39mexternal\u001b[39;00m \u001b[39mimport\u001b[39;00m viewers\n\u001b[0;32m      5\u001b[0m \u001b[39mdef\u001b[39;00m \u001b[39mview\u001b[39m(atoms, data\u001b[39m=\u001b[39m\u001b[39mNone\u001b[39;00m, viewer\u001b[39m=\u001b[39m\u001b[39m'\u001b[39m\u001b[39mase\u001b[39m\u001b[39m'\u001b[39m, repeat\u001b[39m=\u001b[39m\u001b[39mNone\u001b[39;00m, block\u001b[39m=\u001b[39m\u001b[39mFalse\u001b[39;00m):\n\u001b[0;32m      6\u001b[0m     \u001b[39mif\u001b[39;00m parallel\u001b[39m.\u001b[39mworld\u001b[39m.\u001b[39msize \u001b[39m>\u001b[39m \u001b[39m1\u001b[39m:\n",
      "File \u001b[1;32mc:\\DevProgram\\miniconda3\\Lib\\site-packages\\ase\\visualize\\external.py:9\u001b[0m\n\u001b[0;32m      6\u001b[0m \u001b[39mfrom\u001b[39;00m \u001b[39mpathlib\u001b[39;00m \u001b[39mimport\u001b[39;00m Path\n\u001b[0;32m      7\u001b[0m \u001b[39mfrom\u001b[39;00m \u001b[39mcontextlib\u001b[39;00m \u001b[39mimport\u001b[39;00m contextmanager\n\u001b[1;32m----> 9\u001b[0m \u001b[39mfrom\u001b[39;00m \u001b[39mase\u001b[39;00m\u001b[39m.\u001b[39;00m\u001b[39mio\u001b[39;00m\u001b[39m.\u001b[39;00m\u001b[39mformats\u001b[39;00m \u001b[39mimport\u001b[39;00m ioformats\n\u001b[0;32m     10\u001b[0m \u001b[39mfrom\u001b[39;00m \u001b[39mase\u001b[39;00m\u001b[39m.\u001b[39;00m\u001b[39mio\u001b[39;00m \u001b[39mimport\u001b[39;00m write\n\u001b[0;32m     13\u001b[0m \u001b[39mdef\u001b[39;00m \u001b[39m_pipe_to_ase_gui\u001b[39m(atoms, repeat):\n",
      "File \u001b[1;32mc:\\DevProgram\\miniconda3\\Lib\\site-packages\\ase\\io\\__init__.py:1\u001b[0m\n\u001b[1;32m----> 1\u001b[0m \u001b[39mfrom\u001b[39;00m \u001b[39mase\u001b[39;00m\u001b[39m.\u001b[39;00m\u001b[39mio\u001b[39;00m\u001b[39m.\u001b[39;00m\u001b[39mtrajectory\u001b[39;00m \u001b[39mimport\u001b[39;00m Trajectory, PickleTrajectory\n\u001b[0;32m      2\u001b[0m \u001b[39mfrom\u001b[39;00m \u001b[39mase\u001b[39;00m\u001b[39m.\u001b[39;00m\u001b[39mio\u001b[39;00m\u001b[39m.\u001b[39;00m\u001b[39mbundletrajectory\u001b[39;00m \u001b[39mimport\u001b[39;00m BundleTrajectory\n\u001b[0;32m      3\u001b[0m \u001b[39mfrom\u001b[39;00m \u001b[39mase\u001b[39;00m\u001b[39m.\u001b[39;00m\u001b[39mio\u001b[39;00m\u001b[39m.\u001b[39;00m\u001b[39mnetcdftrajectory\u001b[39;00m \u001b[39mimport\u001b[39;00m NetCDFTrajectory\n",
      "File \u001b[1;32mc:\\DevProgram\\miniconda3\\Lib\\site-packages\\ase\\io\\trajectory.py:8\u001b[0m\n\u001b[0;32m      6\u001b[0m \u001b[39mfrom\u001b[39;00m \u001b[39mase\u001b[39;00m \u001b[39mimport\u001b[39;00m __version__\n\u001b[0;32m      7\u001b[0m \u001b[39mfrom\u001b[39;00m \u001b[39mase\u001b[39;00m\u001b[39m.\u001b[39;00m\u001b[39mcalculators\u001b[39;00m\u001b[39m.\u001b[39;00m\u001b[39msinglepoint\u001b[39;00m \u001b[39mimport\u001b[39;00m SinglePointCalculator, all_properties\n\u001b[1;32m----> 8\u001b[0m \u001b[39mfrom\u001b[39;00m \u001b[39mase\u001b[39;00m\u001b[39m.\u001b[39;00m\u001b[39mconstraints\u001b[39;00m \u001b[39mimport\u001b[39;00m dict2constraint\n\u001b[0;32m      9\u001b[0m \u001b[39mfrom\u001b[39;00m \u001b[39mase\u001b[39;00m\u001b[39m.\u001b[39;00m\u001b[39mcalculators\u001b[39;00m\u001b[39m.\u001b[39;00m\u001b[39mcalculator\u001b[39;00m \u001b[39mimport\u001b[39;00m PropertyNotImplementedError\n\u001b[0;32m     10\u001b[0m \u001b[39mfrom\u001b[39;00m \u001b[39mase\u001b[39;00m\u001b[39m.\u001b[39;00m\u001b[39matoms\u001b[39;00m \u001b[39mimport\u001b[39;00m Atoms\n",
      "File \u001b[1;32mc:\\DevProgram\\miniconda3\\Lib\\site-packages\\ase\\constraints.py:5\u001b[0m\n\u001b[0;32m      2\u001b[0m \u001b[39mfrom\u001b[39;00m \u001b[39mwarnings\u001b[39;00m \u001b[39mimport\u001b[39;00m warn\n\u001b[0;32m      4\u001b[0m \u001b[39mimport\u001b[39;00m \u001b[39mnumpy\u001b[39;00m \u001b[39mas\u001b[39;00m \u001b[39mnp\u001b[39;00m\n\u001b[1;32m----> 5\u001b[0m \u001b[39mfrom\u001b[39;00m \u001b[39mscipy\u001b[39;00m\u001b[39m.\u001b[39;00m\u001b[39mlinalg\u001b[39;00m \u001b[39mimport\u001b[39;00m expm, logm\n\u001b[0;32m      6\u001b[0m \u001b[39mfrom\u001b[39;00m \u001b[39mase\u001b[39;00m\u001b[39m.\u001b[39;00m\u001b[39mcalculators\u001b[39;00m\u001b[39m.\u001b[39;00m\u001b[39mcalculator\u001b[39;00m \u001b[39mimport\u001b[39;00m PropertyNotImplementedError\n\u001b[0;32m      7\u001b[0m \u001b[39mfrom\u001b[39;00m \u001b[39mase\u001b[39;00m\u001b[39m.\u001b[39;00m\u001b[39mgeometry\u001b[39;00m \u001b[39mimport\u001b[39;00m (find_mic, wrap_positions, get_distances_derivatives,\n\u001b[0;32m      8\u001b[0m                           get_angles_derivatives, get_dihedrals_derivatives,\n\u001b[0;32m      9\u001b[0m                           conditional_find_mic, get_angles, get_dihedrals)\n",
      "File \u001b[1;32mc:\\DevProgram\\miniconda3\\Lib\\site-packages\\scipy\\__init__.py:193\u001b[0m\n\u001b[0;32m    189\u001b[0m \u001b[39mexcept\u001b[39;00m \u001b[39mImportError\u001b[39;00m \u001b[39mas\u001b[39;00m e:\n\u001b[0;32m    190\u001b[0m     msg \u001b[39m=\u001b[39m \u001b[39m\"\u001b[39m\u001b[39mThe `scipy` install you are using seems to be broken, \u001b[39m\u001b[39m\"\u001b[39m \u001b[39m+\u001b[39m \\\n\u001b[0;32m    191\u001b[0m           \u001b[39m\"\u001b[39m\u001b[39m(extension modules cannot be imported), \u001b[39m\u001b[39m\"\u001b[39m \u001b[39m+\u001b[39m \\\n\u001b[0;32m    192\u001b[0m           \u001b[39m\"\u001b[39m\u001b[39mplease try reinstalling.\u001b[39m\u001b[39m\"\u001b[39m\n\u001b[1;32m--> 193\u001b[0m     \u001b[39mraise\u001b[39;00m \u001b[39mImportError\u001b[39;00m(msg) \u001b[39mfrom\u001b[39;00m \u001b[39me\u001b[39;00m\n\u001b[0;32m    195\u001b[0m \u001b[39mfrom\u001b[39;00m \u001b[39mscipy\u001b[39;00m\u001b[39m.\u001b[39;00m\u001b[39m_lib\u001b[39;00m\u001b[39m.\u001b[39;00m\u001b[39m_testutils\u001b[39;00m \u001b[39mimport\u001b[39;00m PytestTester\n\u001b[0;32m    196\u001b[0m test \u001b[39m=\u001b[39m PytestTester(\u001b[39m__name__\u001b[39m)\n",
      "\u001b[1;31mImportError\u001b[0m: The `scipy` install you are using seems to be broken, (extension modules cannot be imported), please try reinstalling."
     ]
    }
   ],
   "source": [
    "from ase import Atoms, Atom\n",
    "from ase.visualize import view\n",
    "\n",
    "atoms = Atoms([Atom('C', [0., 0., 0.]),\n",
    "                Atom('O', [1.1, 0., 0.])],\n",
    "                cell=(10, 10, 10))\n",
    "\n",
    "# visualize\n",
    "atoms.pbc = True     # to view box\n",
    "view(atoms, viewer='ngl')"
   ]
  }
 ],
 "metadata": {
  "kernelspec": {
   "display_name": "base",
   "language": "python",
   "name": "python3"
  },
  "language_info": {
   "codemirror_mode": {
    "name": "ipython",
    "version": 3
   },
   "file_extension": ".py",
   "mimetype": "text/x-python",
   "name": "python",
   "nbconvert_exporter": "python",
   "pygments_lexer": "ipython3",
   "version": "3.11.0 | packaged by conda-forge | (main, Oct 25 2022, 06:12:32) [MSC v.1929 64 bit (AMD64)]"
  },
  "orig_nbformat": 4,
  "vscode": {
   "interpreter": {
    "hash": "2b6e7cfdce5ef245d32482b7f80393907c6182a3f3a40203474e09cb3d62b454"
   }
  }
 },
 "nbformat": 4,
 "nbformat_minor": 2
}
