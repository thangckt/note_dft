{
 "cells": [
  {
   "attachments": {},
   "cell_type": "markdown",
   "metadata": {},
   "source": [
    "# Density Functional Theory (DFT)\n",
    "\n",
    "see this https://www.nersc.gov/assets/Uploads/VASP-lecture-Basics.pdf\n",
    "\n",
    "DFT calculation is based on the Kohn-Sham (KS) [equations](http://kitchingroup.cheme.cmu.edu/dft-book/dft.pdf), which can be solved numerically if we know the *the exchange-correlation energy functional*. However, the exact form of the exchange-correlation energy functional is not known, thus approximations for this functional must be used.\n",
    "\n",
    "## Exchange correlation functionals\n",
    "\n",
    "The two main types of exchange/correlation functionals used in DFT are\n",
    "- Local density approximation (LDA), and \n",
    "- Generalized gradient approximation (GGA), which is often implemented as a corrective function of the LDA. There are forms of this corrective function (or \"exchange enhancement\" function):\n",
    "    - PBE \n",
    "    - RPBE  \n",
    "    - revPBE \n",
    "- There is also the so-called hybrid functionals, such as B3LYP\n",
    "\n",
    "## Basis sets\n",
    "\n",
    "There are basis sets:\n",
    "- Gaussian\n",
    "- Planewaves (used in VASP): should used in non-defect periodic system\n",
    "\n",
    "The most common schemes for generating k points are the Chadi-Cohen scheme and the Monkhorst-Pack scheme\n",
    "\n",
    "## Pseudopotentials\n",
    "\n",
    "Planewave basis sets are only (normally) used for valence electrons, and replace the atomic potential due to the core electrons with a *pseudopotential*  that has the same effect on the valence electrons. Because:\n",
    "- The core electrons of an atom are highly localized; this means that a very large number of planewaves are required to expand their wave functions. Then it will very expensive to use planewaves for core electrons.\n",
    "- The contributions of the core electrons to bonding compared to those of the valence electrons are usually negligible\n",
    "\n",
    "The pseudopotential function is generated from an all-electron calculation of an atom in some reference state. There are  two kinds of pseudopotentials: norm-conserving soft pseudopotentials and Vanderbilt ultrasoft pseudopotentials\n",
    "\n",
    "PAW (Projector Augmented Wave): are based on the idea of \"augmenting\" the all-electron wave functions with additional \"projectors\" that account for the core electrons that are not explicitly included in the calculation. The PAW potentials are designed to mimic the behavior of the core electrons, allowing for a more accurate description of the electronic structure and properties of the material being studied. (VASP provides a database of PAW potential)\n",
    "\n",
    "GPAW [(Grid-based Projector Augmented Wave)](https://wiki.fysik.dtu.dk/gpaw/) is an open-source software package for performing density functional theory (DFT) calculations. It is built on top of the PAW (Projector Augmented Wave) method."
   ]
  },
  {
   "attachments": {},
   "cell_type": "markdown",
   "metadata": {},
   "source": [
    "## Fermi Temperature and band occupation numbers\n",
    "\n",
    "At absolute zero, the occupancies of the bands of a system are well-defined step functions, in which\n",
    "- all bands up to the Fermi level are occupied\n",
    "- all bands above the Fermi level are unoccupied. \n",
    "[Read about Fermi level](https://byjus.com/physics/fermi-energy/)\n",
    "\n",
    "There is a particular difficulty in the calculation of the electronic structures of metals compared to semiconductors\n",
    "and molecules. \n",
    "- In molecules and semiconductors, there is a *clear energy gap* between the occupied states and unoccupied states. Thus, the occupancies are insensitive to changes in the energy that occurs during the self-consistency cycles. \n",
    "- In metals, however, the density of states is continuous at the Fermi level, and there are typically a substantial number of states that are close in energy to the Fermi level. Consequently, small changes in the energy can dramatically change the occupation numbers, resulting in instabilities that make it difficult to converge to the occupation step function. A related problem is that the Brillouin zone integral (which in practice is performed as a sum over a finite number of k points) that defines the band energy converges very slowly with the number of k points due to the discontinuity\n",
    "in occupancies in a continuous distribution of states for metals. \n",
    "\n",
    "The difficulty arises because the temperature in most DFT calculations is at absolute zero. At higher temperatures, the DOS is smeared across the Fermi level, resulting in a continuous occupation function over the distribution of states. A\n",
    "finite-temperature version of DFT was developed, which is the foundation on which one solution to this problem is based. In this solution, the step function is replaced by a smoothly varying function such as the Fermi-Dirac function at a small, but non-zero temperature. The total energy is then extrapolated back to absolute zero."
   ]
  },
  {
   "attachments": {},
   "cell_type": "markdown",
   "metadata": {},
   "source": [
    "## Some terminologies\n",
    "\n",
    "**Orbital** refers to the path or trajectory that an object in space follows around another object. The term can also refer to the region of space around an object where other objects are to be found. E.g., satellites are fly around the planet.\n",
    "\n",
    "In the context of chemistry and physics, an electron orbital refers to the region of space around an atom where an electron is most likely to be found."
   ]
  },
  {
   "cell_type": "code",
   "execution_count": null,
   "metadata": {},
   "outputs": [],
   "source": [
    "\n",
    "\n"
   ]
  }
 ],
 "metadata": {
  "kernelspec": {
   "display_name": "base",
   "language": "python",
   "name": "python3"
  },
  "language_info": {
   "name": "python",
   "version": "3.11.0 | packaged by conda-forge | (main, Oct 25 2022, 06:12:32) [MSC v.1929 64 bit (AMD64)]"
  },
  "orig_nbformat": 4,
  "vscode": {
   "interpreter": {
    "hash": "2b6e7cfdce5ef245d32482b7f80393907c6182a3f3a40203474e09cb3d62b454"
   }
  }
 },
 "nbformat": 4,
 "nbformat_minor": 2
}
