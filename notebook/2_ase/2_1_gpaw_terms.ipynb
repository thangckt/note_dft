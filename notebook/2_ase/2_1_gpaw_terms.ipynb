{
  "cells": [
    {
      "cell_type": "markdown",
      "metadata": {
        "colab_type": "text",
        "id": "view-in-github"
      },
      "source": [
        "<a href=\"https://colab.research.google.com/github/thangckt/note_dft/blob/main/notebook/1_2_ase_workflow.ipynb\" target=\"_parent\"><img src=\"https://colab.research.google.com/assets/colab-badge.svg\" alt=\"Open In Colab\"/></a>"
      ]
    },
    {
      "cell_type": "markdown",
      "metadata": {
        "id": "AXfgfEHK1fD0"
      },
      "source": [
        "# GPAW basic usage\n",
        "\n",
        "## Modes\n",
        "The \"mode\" in GPAW refers to the type of **basis functions** used to represent the Kohn-Sham orbitals in the DFT calculations.\n",
        "\n",
        "The main options for mode in GPAW are:\n",
        "- Plane waves (PW): Uses a plane wave basis set. This is efficient for periodic systems.\n",
        "- Finite differences (FD): Represents wavefunctions on a real space grid using finite difference derivatives. Better for isolated systems.\n",
        "- Linear combination of atomic orbitals (LCAO): Uses a linear combination of atomic orbital type basis functions centered on each atom.\n",
        "\n",
        "So in summary, the mode controls the mathematical form of the basis functions used to expand the Kohn-Sham orbitals in the DFT calculations with GPAW. The choice of mode impacts things like accuracy and computational efficiency for different types of systems.\n",
        "\n",
        "**Comparing FD, LCAO and PW modes**:\n",
        "- Memory consumption: With LCAO, you have fewer degrees of freedom so memory usage is low. PW mode uses more memory and FD a lot more.\n",
        "- Speed: For small systems with many k-points, PW mode beats everything else. For larger systems LCAO will be most efficient. Whereas PW beats FD for smallish systems, the opposite is true for large systems where FD will parallelize better.\n",
        "- Absolute convergence: With LCAO, it can be hard to reach the complete basis set limit and get absolute convergence of energies, whereas with FD and PW mode it is quite easy to do by decreasing the grid spacing or increasing the plane-wave cutoff energy, respectively.\n",
        "- Eggbox errors: With LCAO and FD mode you will get a small eggbox error: you get a small periodic energy variation as you translate atoms and the period of the variation will be equal to the grid-spacing used. GPAW’s PW implementation doesn’t have this problem.\n",
        "- Features: FD mode is the oldest and has most features. Only PW mode can be used for calculating the stress-tensor and for response function calculations.\n",
        "\n",
        "REFERENCE:\n",
        "- [GPAW documentation](https://wiki.fysik.dtu.dk/gpaw/documentation/basic.html)\n",
        "\n",
        "<!-- ![](https://github.com/thangckt/note_dft/blob/main/notebook/images/1_1_ase_and_gpaw.png?raw=1) -->"
      ]
    }
  ],
  "metadata": {
    "colab": {
      "include_colab_link": true,
      "provenance": []
    },
    "kernelspec": {
      "display_name": "py310gpaw",
      "language": "python",
      "name": "python3"
    },
    "language_info": {
      "codemirror_mode": {
        "name": "ipython",
        "version": 3
      },
      "file_extension": ".py",
      "mimetype": "text/x-python",
      "name": "python",
      "nbconvert_exporter": "python",
      "pygments_lexer": "ipython3",
      "version": "3.10.8 | packaged by conda-forge | (main, Nov 22 2022, 08:26:04) [GCC 10.4.0]"
    },
    "orig_nbformat": 4,
    "vscode": {
      "interpreter": {
        "hash": "8264a2ff4398fd532945897322f9f2d54e86304d937113db00eaf6278c97de02"
      }
    }
  },
  "nbformat": 4,
  "nbformat_minor": 0
}
