{
  "cells": [
    {
      "cell_type": "markdown",
      "metadata": {
        "id": "view-in-github",
        "colab_type": "text"
      },
      "source": [
        "<a href=\"https://colab.research.google.com/github/thangckt/note_dft/blob/main/notebook/2_ase/1_1_ase_workflow.ipynb\" target=\"_parent\"><img src=\"https://colab.research.google.com/assets/colab-badge.svg\" alt=\"Open In Colab\"/></a>"
      ]
    },
    {
      "cell_type": "markdown",
      "metadata": {
        "id": "AXfgfEHK1fD0"
      },
      "source": [
        "# ASE workflow\n",
        "\n",
        "## Basic workflow\n",
        "\n",
        "ASE allows atomistic calculations to be scripted with different computational codes. To perform a calculation in ASE, we have to\n",
        "- Define an `ase.Atoms` object, which contains atomic positions and simulation cell (atom, molecule, bulk)\n",
        "- Define a calculator and attach it to `ase.Atoms` object.\n",
        "- The calculation is triggered when methods of `ase.Atoms` is called. E.g., `atoms.get_forces()`,...\n",
        "\n",
        "The parameters for calculation are set in **calculator**. Each calculator has its parameters.\n",
        "\n",
        "![](https://github.com/thangckt/note_dft/blob/main/notebook/images/1_1_ase_and_gpaw.png?raw=1)"
      ]
    },
    {
      "cell_type": "code",
      "execution_count": null,
      "metadata": {
        "id": "sPePfzyP1fD4"
      },
      "outputs": [],
      "source": [
        "from ase import Atoms\n",
        "from ase.calculators.emt import EMT\n",
        "\n",
        "atoms = Atoms(...)  # define Atoms object\n",
        "calc = EMT(...)     # define calculator\n",
        "atoms.calc = calc   # attach calculator to atoms obj\n",
        "\n",
        "atoms.get_potential_energy()   # strigger calculation"
      ]
    },
    {
      "cell_type": "markdown",
      "metadata": {
        "id": "K5eKb0At1fD5"
      },
      "source": [
        "## Define things\n",
        "\n",
        "All modules in ASE are available [here](https://wiki.fysik.dtu.dk/ase/ase/ase.html)\n",
        "\n",
        "### The Atoms object\n",
        "\n",
        "The Atoms object is the main simulation object. It contains:\n",
        "• Per-atom data: positions, velocities, charges, magnetic moments, tags.\n",
        "• Global data: Unit cell, boundary conditions.\n",
        "• Refs to helper objects: Calculator, constraints,...\n",
        "\n",
        "See [Introduction](https://wiki.fysik.dtu.dk/gpaw/_downloads/e5bc3d24100d74180bcee8b22af1f2e3/Intro_projects_CAMD2022.pdf)\n",
        "\n",
        "The `Atoms` object can be created in several ways\n",
        "- Build from scratch with [`ase.Atoms`](https://wiki.fysik.dtu.dk/ase/ase/atoms.html#)\n",
        "- Use predefined object in [`ase.build`](https://wiki.fysik.dtu.dk/ase/ase/build/build.html#module-ase.build): `molecule`, `bulk`, `surface`,...\n",
        "- The `ase.lattice` module. The module contains functions for creating most common crystal structures with arbitrary orientation. The user can specify the desired Miller index along the three axes of the simulation, and the smallest periodic structure fulfilling this specification is created. Both bulk crystals and surfaces can be created.\n",
        "- The `ase.cluster` module. Useful for creating nanoparticles and clusters.\n",
        "- Read from data files, in other formats with [`ase.io`](https://wiki.fysik.dtu.dk/ase/ase/io/io): `*.cig`, ... that can get from open database, such as [Crystallography Open Database](http://www.crystallography.net/cod/), [Material Project](https://materialsproject.org/)\n",
        "\n",
        "``` {note}\n",
        "The XYZ format does not have unit cell information in it, so you will have to figure out a way to provide it.\n",
        "`atoms.center(vacuum=5)` in `ase` is a qick for that\n",
        "```\n",
        "\n",
        "### Calculators\n",
        "\n",
        "For ASE, a calculator is a black box that can take atomic numbers and atomic positions from an Atoms object and calculate the energy and forces and sometimes also stresses.\n",
        "\n",
        "All [supported calculators](https://wiki.fysik.dtu.dk/ase/ase/calculators/calculators) can be divided into four groups:\n",
        "1. Have their own ative or external ASE interfaces: GPAW, BigDFT, DeePMD-kit,...\n",
        "2. Have Python wrappers in the ASE, but the actual FORTRAN/C/C++ codes are not part of ASE: LAMMPS, VASP, PLUMED...\n",
        "3. Pure python implementations included in the ASE package: EMT, EAM, Lennard-Jones, Morse and HarmonicCalculator.\n",
        "4. Calculators that wrap others\n"
      ]
    },
    {
      "cell_type": "markdown",
      "metadata": {
        "id": "3qVqbLcT1fD6"
      },
      "source": [
        "## Write outputs for post processing\n",
        "\n",
        "See the `ase.io` [module](https://wiki.fysik.dtu.dk/ase/ase/io/io.html#)\n",
        "\n",
        "When running multiple calculations, we often want to write them into a file. We can use the standard trajectory format to write multiple calculations (atoms and energy) like this:"
      ]
    },
    {
      "cell_type": "code",
      "execution_count": null,
      "metadata": {
        "id": "MH4SLvzc1fD6"
      },
      "outputs": [],
      "source": [
        "from ase.io.trajectory import Trajectory\n",
        "traj = Trajectory('mytrajectory.traj', 'w')\n",
        "\n",
        "## Run series of can calculations\n",
        "for i in range(5):\n",
        "    ...\n",
        "    traj.write(atoms)"
      ]
    },
    {
      "cell_type": "markdown",
      "metadata": {
        "id": "u2dQQoeC1fD7"
      },
      "source": [
        "## Visualize\n",
        "\n",
        "For visualization\n",
        "- ASE provide a [Visualize module](https://wiki.fysik.dtu.dk/ase//ase/visualize/visualize.html). Consider to install packages `nglview` may require to visualize in jupyter.\n",
        "- See [Nglview advance usage](https://osscar-docs.readthedocs.io/en/latest/visualizer/nglview_advanced.html)\n",
        "  ```\n",
        "  %conda install -c conda-forge nglview\n",
        "  %pip install git+https://github.com/arose/nglview\n",
        "  ```\n",
        "\n",
        "More advanced visualize with nglview [see here](https://docs.matlantis.com/atomistic-simulation-tutorial/ja/Appendix_1_visualization.html)"
      ]
    },
    {
      "cell_type": "code",
      "execution_count": null,
      "metadata": {
        "id": "VZF8IEaS1fD7",
        "outputId": "ee981474-cb9c-4d3e-88a2-fc117be97b26",
        "colab": {
          "referenced_widgets": [
            "50f671686d2a49ebb38e6ee9c1cb9159"
          ]
        }
      },
      "outputs": [
        {
          "data": {
            "application/vnd.jupyter.widget-view+json": {
              "model_id": "50f671686d2a49ebb38e6ee9c1cb9159",
              "version_major": 2,
              "version_minor": 0
            },
            "text/plain": [
              "HBox(children=(NGLWidget(), VBox(children=(Dropdown(description='Show', options=('All', 'C', 'O'), value='All'…"
            ]
          },
          "metadata": {},
          "output_type": "display_data"
        }
      ],
      "source": [
        "from ase import Atoms, Atom\n",
        "from ase.visualize import view\n",
        "\n",
        "atoms = Atoms([Atom('C', [0., 0., 0.]),\n",
        "                Atom('O', [1.1, 0., 0.])],\n",
        "                cell=(2, 2, 2))\n",
        "atoms.center()\n",
        "\n",
        "# visualize\n",
        "atoms.pbc = True     # to view box\n",
        "view(atoms, viewer='ngl')"
      ]
    }
  ],
  "metadata": {
    "kernelspec": {
      "display_name": "py310gpaw",
      "language": "python",
      "name": "python3"
    },
    "language_info": {
      "codemirror_mode": {
        "name": "ipython",
        "version": 3
      },
      "file_extension": ".py",
      "mimetype": "text/x-python",
      "name": "python",
      "nbconvert_exporter": "python",
      "pygments_lexer": "ipython3",
      "version": "3.10.8 | packaged by conda-forge | (main, Nov 22 2022, 08:26:04) [GCC 10.4.0]"
    },
    "orig_nbformat": 4,
    "vscode": {
      "interpreter": {
        "hash": "8264a2ff4398fd532945897322f9f2d54e86304d937113db00eaf6278c97de02"
      }
    },
    "colab": {
      "provenance": [],
      "include_colab_link": true
    }
  },
  "nbformat": 4,
  "nbformat_minor": 0
}